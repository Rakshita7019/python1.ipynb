{
 "cells": [
  {
   "cell_type": "code",
   "execution_count": 1,
   "id": "7f8cb425-32ab-47ad-83bb-a7596b3d436d",
   "metadata": {},
   "outputs": [
    {
     "name": "stdout",
     "output_type": "stream",
     "text": [
      "Defaulting to user installation because normal site-packages is not writeable\n",
      "Requirement already satisfied: numpy in c:\\users\\user\\appdata\\roaming\\python\\python313\\site-packages (2.2.4)\n"
     ]
    }
   ],
   "source": [
    "!pip install numpy"
   ]
  },
  {
   "cell_type": "code",
   "execution_count": 2,
   "id": "385ec2a1-7f1a-4f62-9a9b-dbf1647a78b9",
   "metadata": {},
   "outputs": [
    {
     "name": "stdout",
     "output_type": "stream",
     "text": [
      "Defaulting to user installation because normal site-packages is not writeable\n",
      "Requirement already satisfied: numpy in c:\\users\\user\\appdata\\roaming\\python\\python313\\site-packages (2.2.4)\n",
      "Note: you may need to restart the kernel to use updated packages.\n"
     ]
    }
   ],
   "source": [
    "pip install numpy"
   ]
  },
  {
   "cell_type": "code",
   "execution_count": 3,
   "id": "61b54266-8e7c-4298-bbca-9666d157c993",
   "metadata": {},
   "outputs": [
    {
     "name": "stdout",
     "output_type": "stream",
     "text": [
      "Sum of elements: 210\n",
      "Mean of elements: 10.5\n",
      "Median of elements: 10.5\n",
      "Standard deviation of elements: 5.766281297335398\n",
      "Indices of elements greater than 10: [10 11 12 13 14 15 16 17 18 19]\n"
     ]
    }
   ],
   "source": [
    "import numpy as np\n",
    "\n",
    "array = np.arange(1, 21)\n",
    "\n",
    "sum_of_elements = np.sum(array)\n",
    "mean_of_elements = np.mean(array)\n",
    "median_of_elements = np.median(array)\n",
    "std_dev_of_elements = np.std(array)\n",
    "\n",
    "print(f\"Sum of elements: {sum_of_elements}\")\n",
    "print(f\"Mean of elements: {mean_of_elements}\")\n",
    "print(f\"Median of elements: {median_of_elements}\")\n",
    "print(f\"Standard deviation of elements: {std_dev_of_elements}\")\n",
    "\n",
    "indices = np.where(array > 10)\n",
    "\n",
    "print(f\"Indices of elements greater than 10: {indices[0]}\")"
   ]
  },
  {
   "cell_type": "code",
   "execution_count": 5,
   "id": "51d42c65-74d1-4ed8-8ae2-f6ad878f214e",
   "metadata": {},
   "outputs": [
    {
     "name": "stdout",
     "output_type": "stream",
     "text": [
      "Sum of elements: 210\n",
      "Mean of elements: 10.5\n",
      "Median of elements: 10.5\n",
      "Standard deviation of elements: 5.766281297335398\n",
      "Indices of elements greater than 10: [10 11 12 13 14 15 16 17 18 19]\n",
      "\n",
      "Column-wise sums:\n"
     ]
    }
   ],
   "source": [
    "import numpy as np\n",
    "\n",
    "array = np.arange(1, 21)\n",
    "\n",
    "sum_of_elements = np.sum(array)\n",
    "mean_of_elements = np.mean(array)\n",
    "median_of_elements = np.median(array)\n",
    "std_dev_of_elements = np.std(array)\n",
    "\n",
    "print(f\"Sum of elements: {sum_of_elements}\")\n",
    "print(f\"Mean of elements: {mean_of_elements}\")\n",
    "print(f\"Median of elements: {median_of_elements}\")\n",
    "print(f\"Standard deviation of elements: {std_dev_of_elements}\")\n",
    "\n",
    "indices = np.where(array > 10)\n",
    "\n",
    "print(f\"Indices of elements greater than 10: {indices[0]}\")\n",
    "print(\"\\nColumn-wise sums:\")\n"
   ]
  },
  {
   "cell_type": "code",
   "execution_count": 6,
   "id": "6545c3fb-971d-4c33-b461-ebf98f0ab8a6",
   "metadata": {},
   "outputs": [
    {
     "name": "stdout",
     "output_type": "stream",
     "text": [
      "Array 1:\n",
      "[[13 16  1]\n",
      " [ 4  4  8]\n",
      " [10 20 19]]\n",
      "\n",
      "Array 2:\n",
      "[[ 5  7 13]\n",
      " [ 2  7  8]\n",
      " [15 18  6]]\n",
      "\n",
      "Element-wise addition:\n",
      "[[18 23 14]\n",
      " [ 6 11 16]\n",
      " [25 38 25]]\n",
      "\n",
      "Element-wise subtraction:\n",
      "[[  8   9 -12]\n",
      " [  2  -3   0]\n",
      " [ -5   2  13]]\n",
      "\n",
      "Element-wise multiplication:\n",
      "[[ 65 112  13]\n",
      " [  8  28  64]\n",
      " [150 360 114]]\n",
      "\n",
      "Dot product:\n",
      "[[112 221 303]\n",
      " [148 200 132]\n",
      " [375 552 404]]\n"
     ]
    }
   ],
   "source": [
    "import numpy as np\n",
    "\n",
    "np.random.seed(0)  \n",
    "array1 = np.random.randint(1, 21, size=(3, 3))  \n",
    "array2 = np.random.randint(1, 21, size=(3, 3))  \n",
    "\n",
    "print(\"Array 1:\")\n",
    "print(array1)\n",
    "print(\"\\nArray 2:\")\n",
    "print(array2)\n",
    "\n",
    "addition = array1 + array2\n",
    "print(\"\\nElement-wise addition:\")\n",
    "print(addition)\n",
    "\n",
    "subtraction = array1 - array2\n",
    "print(\"\\nElement-wise subtraction:\")\n",
    "print(subtraction)\n",
    "\n",
    "multiplication = array1 * array2\n",
    "print(\"\\nElement-wise multiplication:\")\n",
    "print(multiplication)\n",
    "\n",
    "dot_product = np.dot(array1, array2)\n",
    "print(\"\\nDot product:\")\n",
    "print(dot_product)"
   ]
  },
  {
   "cell_type": "code",
   "execution_count": 7,
   "id": "29b6130d-cf18-4255-96b7-68f0bcca2bc7",
   "metadata": {},
   "outputs": [
    {
     "name": "stdout",
     "output_type": "stream",
     "text": [
      "Original array:\n",
      "[ 1  2  3  4  5  6  7  8  9 10 11 12]\n",
      "\n",
      "Reshaped array:\n",
      "[[ 1  2  3  4]\n",
      " [ 5  6  7  8]\n",
      " [ 9 10 11 12]]\n",
      "\n",
      "Sliced array:\n",
      "[[3 4]\n",
      " [7 8]]\n"
     ]
    }
   ],
   "source": [
    "import numpy as np\n",
    "\n",
    "array = np.arange(1, 13)\n",
    "\n",
    "print(\"Original array:\")\n",
    "print(array)\n",
    "\n",
    "array = array.reshape(3, 4)\n",
    "\n",
    "print(\"\\nReshaped array:\")\n",
    "print(array)\n",
    "\n",
    "sliced_array = array[:2, -2:]\n",
    "\n",
    "print(\"\\nSliced array:\")\n",
    "print(sliced_array)"
   ]
  },
  {
   "cell_type": "code",
   "execution_count": 8,
   "id": "d255f101-c5da-4cc3-9887-a74214ff8321",
   "metadata": {},
   "outputs": [
    {
     "name": "stdout",
     "output_type": "stream",
     "text": [
      "Defaulting to user installation because normal site-packages is not writeable\n",
      "Requirement already satisfied: pandas in c:\\users\\user\\appdata\\roaming\\python\\python313\\site-packages (2.2.3)\n",
      "Requirement already satisfied: numpy>=1.26.0 in c:\\users\\user\\appdata\\roaming\\python\\python313\\site-packages (from pandas) (2.2.4)\n",
      "Requirement already satisfied: python-dateutil>=2.8.2 in c:\\users\\user\\appdata\\roaming\\python\\python313\\site-packages (from pandas) (2.9.0.post0)\n",
      "Requirement already satisfied: pytz>=2020.1 in c:\\users\\user\\appdata\\roaming\\python\\python313\\site-packages (from pandas) (2025.2)\n",
      "Requirement already satisfied: tzdata>=2022.7 in c:\\users\\user\\appdata\\roaming\\python\\python313\\site-packages (from pandas) (2025.2)\n",
      "Requirement already satisfied: six>=1.5 in c:\\users\\user\\appdata\\roaming\\python\\python313\\site-packages (from python-dateutil>=2.8.2->pandas) (1.17.0)\n",
      "Note: you may need to restart the kernel to use updated packages.\n"
     ]
    }
   ],
   "source": [
    "pip install pandas"
   ]
  },
  {
   "cell_type": "code",
   "execution_count": 9,
   "id": "c41197fb-f1b5-47a3-86c6-1a58e2bdfa1d",
   "metadata": {},
   "outputs": [
    {
     "name": "stdout",
     "output_type": "stream",
     "text": [
      "Defaulting to user installation because normal site-packages is not writeable\n",
      "Requirement already satisfied: pandas in c:\\users\\user\\appdata\\roaming\\python\\python313\\site-packages (2.2.3)\n",
      "Requirement already satisfied: numpy>=1.26.0 in c:\\users\\user\\appdata\\roaming\\python\\python313\\site-packages (from pandas) (2.2.4)\n",
      "Requirement already satisfied: python-dateutil>=2.8.2 in c:\\users\\user\\appdata\\roaming\\python\\python313\\site-packages (from pandas) (2.9.0.post0)\n",
      "Requirement already satisfied: pytz>=2020.1 in c:\\users\\user\\appdata\\roaming\\python\\python313\\site-packages (from pandas) (2025.2)\n",
      "Requirement already satisfied: tzdata>=2022.7 in c:\\users\\user\\appdata\\roaming\\python\\python313\\site-packages (from pandas) (2025.2)\n",
      "Requirement already satisfied: six>=1.5 in c:\\users\\user\\appdata\\roaming\\python\\python313\\site-packages (from python-dateutil>=2.8.2->pandas) (1.17.0)\n"
     ]
    }
   ],
   "source": [
    "!pip install pandas"
   ]
  },
  {
   "cell_type": "code",
   "execution_count": 10,
   "id": "78adfaf9-8d6f-4669-9cb7-b4d751390423",
   "metadata": {},
   "outputs": [
    {
     "name": "stdout",
     "output_type": "stream",
     "text": [
      "First five rows of the DataFrame:\n",
      "      Name  Age Department  Salary\n",
      "0    Alice   24         HR   45000\n",
      "1      Bob   27    Finance   54000\n",
      "2  Charlie   22         IT   50000\n",
      "3    Diana   32  Marketing   62000\n",
      "4      Eve   29         HR   47000\n",
      "\n",
      "Summary statistics of 'Age' and 'Salary' columns:\n",
      "             Age        Salary\n",
      "count   5.000000      5.000000\n",
      "mean   26.800000  51600.000000\n",
      "std     3.962323   6730.527468\n",
      "min    22.000000  45000.000000\n",
      "25%    24.000000  47000.000000\n",
      "50%    27.000000  50000.000000\n",
      "75%    29.000000  54000.000000\n",
      "max    32.000000  62000.000000\n",
      "\n",
      "Average salary of employees in the 'HR' department: 46000.0\n"
     ]
    }
   ],
   "source": [
    "import pandas as pd\n",
    "\n",
    "data = {\n",
    "    'Name': ['Alice', 'Bob', 'Charlie', 'Diana', 'Eve'],\n",
    "    'Age': [24, 27, 22, 32, 29],\n",
    "    'Department': ['HR', 'Finance', 'IT', 'Marketing', 'HR'],\n",
    "    'Salary': [45000, 54000, 50000, 62000, 47000]\n",
    "}\n",
    "df = pd.DataFrame(data)\n",
    "\n",
    "print(\"First five rows of the DataFrame:\")\n",
    "print(df)\n",
    "\n",
    "print(\"\\nSummary statistics of 'Age' and 'Salary' columns:\")\n",
    "print(df[['Age', 'Salary']].describe())\n",
    "\n",
    "hr_avg_salary = df[df['Department'] == 'HR']['Salary'].mean()\n",
    "print(f\"\\nAverage salary of employees in the 'HR' department: {hr_avg_salary}\")"
   ]
  },
  {
   "cell_type": "code",
   "execution_count": 11,
   "id": "1a4f4ddf-44b7-4d98-abe0-723ced870d5f",
   "metadata": {},
   "outputs": [
    {
     "name": "stdout",
     "output_type": "stream",
     "text": [
      "      Name  Age Department  Salary   Bonus\n",
      "0    Alice   24         HR   45000  4500.0\n",
      "1      Bob   27    Finance   54000  5400.0\n",
      "2  Charlie   22         IT   50000  5000.0\n",
      "3    Diana   32  Marketing   62000  6200.0\n",
      "4      Eve   29         HR   47000  4700.0\n"
     ]
    }
   ],
   "source": [
    "import pandas as pd\n",
    "\n",
    "data = {\n",
    "    'Name': ['Alice', 'Bob', 'Charlie', 'Diana', 'Eve'],\n",
    "    'Age': [24, 27, 22, 32, 29],\n",
    "    'Department': ['HR', 'Finance', 'IT', 'Marketing', 'HR'],\n",
    "    'Salary': [45000, 54000, 50000, 62000, 47000]\n",
    "}\n",
    "df = pd.DataFrame(data)\n",
    "\n",
    "df['Bonus'] = df['Salary'] * 0.10\n",
    "\n",
    "print(df)"
   ]
  },
  {
   "cell_type": "code",
   "execution_count": 12,
   "id": "741835a2-5553-4732-afbc-1cf1bf1452c4",
   "metadata": {},
   "outputs": [
    {
     "name": "stdout",
     "output_type": "stream",
     "text": [
      "  Name  Age Department  Salary\n",
      "1  Bob   27    Finance   54000\n",
      "4  Eve   29         HR   47000\n"
     ]
    }
   ],
   "source": [
    "import pandas as pd\n",
    "\n",
    "data = {\n",
    "    'Name': ['Alice', 'Bob', 'Charlie', 'Diana', 'Eve'],\n",
    "    'Age': [24, 27, 22, 32, 29],\n",
    "    'Department': ['HR', 'Finance', 'IT', 'Marketing', 'HR'],\n",
    "    'Salary': [45000, 54000, 50000, 62000, 47000]\n",
    "}\n",
    "df = pd.DataFrame(data)\n",
    "\n",
    "filtered_df = df[(df['Age'] >= 25) & (df['Age'] <= 30)]\n",
    "\n",
    "print(filtered_df)"
   ]
  },
  {
   "cell_type": "code",
   "execution_count": 13,
   "id": "59fc847d-9259-4eb6-ba42-2513e68566e9",
   "metadata": {},
   "outputs": [
    {
     "name": "stdout",
     "output_type": "stream",
     "text": [
      "Department\n",
      "Finance      54000.0\n",
      "HR           46000.0\n",
      "IT           50000.0\n",
      "Marketing    62000.0\n",
      "Name: Salary, dtype: float64\n"
     ]
    }
   ],
   "source": [
    "import pandas as pd\n",
    "\n",
    "data = {\n",
    "    'Name': ['Alice', 'Bob', 'Charlie', 'Diana', 'Eve'],\n",
    "    'Age': [24, 27, 22, 32, 29],\n",
    "    'Department': ['HR', 'Finance', 'IT', 'Marketing', 'HR'],\n",
    "    'Salary': [45000, 54000, 50000, 62000, 47000]\n",
    "}\n",
    "df = pd.DataFrame(data)\n",
    "\n",
    "avg_salary_by_dept = df.groupby('Department')['Salary'].mean()\n",
    "\n",
    "print(avg_salary_by_dept)"
   ]
  },
  {
   "cell_type": "code",
   "execution_count": 14,
   "id": "1ac1a040-6191-455c-8d96-1c2ab18ab35f",
   "metadata": {},
   "outputs": [
    {
     "name": "stdout",
     "output_type": "stream",
     "text": [
      "      Name  Age Department  Salary\n",
      "0    Alice   24         HR   45000\n",
      "4      Eve   29         HR   47000\n",
      "2  Charlie   22         IT   50000\n",
      "1      Bob   27    Finance   54000\n",
      "3    Diana   32  Marketing   62000\n"
     ]
    }
   ],
   "source": [
    "import pandas as pd\n",
    "\n",
    "data = {\n",
    "    'Name': ['Alice', 'Bob', 'Charlie', 'Diana', 'Eve'],\n",
    "    'Age': [24, 27, 22, 32, 29],\n",
    "    'Department': ['HR', 'Finance', 'IT', 'Marketing', 'HR'],\n",
    "    'Salary': [45000, 54000, 50000, 62000, 47000]\n",
    "}\n",
    "df = pd.DataFrame(data)\n",
    "\n",
    "sorted_df = df.sort_values(by='Salary', ascending=True)\n",
    "\n",
    "print(sorted_df)\n",
    "\n",
    "sorted_df.to_csv('sorted_salaries.csv', index=False)"
   ]
  },
  {
   "cell_type": "code",
   "execution_count": 15,
   "id": "9b3e7ce7-882b-4d26-a4c3-ccac71f0c9d5",
   "metadata": {},
   "outputs": [
    {
     "name": "stdout",
     "output_type": "stream",
     "text": [
      "Defaulting to user installation because normal site-packages is not writeable\n",
      "Requirement already satisfied: matplotlib in c:\\users\\user\\appdata\\roaming\\python\\python313\\site-packages (3.10.1)\n",
      "Requirement already satisfied: contourpy>=1.0.1 in c:\\users\\user\\appdata\\roaming\\python\\python313\\site-packages (from matplotlib) (1.3.1)\n",
      "Requirement already satisfied: cycler>=0.10 in c:\\users\\user\\appdata\\roaming\\python\\python313\\site-packages (from matplotlib) (0.12.1)\n",
      "Requirement already satisfied: fonttools>=4.22.0 in c:\\users\\user\\appdata\\roaming\\python\\python313\\site-packages (from matplotlib) (4.56.0)\n",
      "Requirement already satisfied: kiwisolver>=1.3.1 in c:\\users\\user\\appdata\\roaming\\python\\python313\\site-packages (from matplotlib) (1.4.8)\n",
      "Requirement already satisfied: numpy>=1.23 in c:\\users\\user\\appdata\\roaming\\python\\python313\\site-packages (from matplotlib) (2.2.4)\n",
      "Requirement already satisfied: packaging>=20.0 in c:\\users\\user\\appdata\\roaming\\python\\python313\\site-packages (from matplotlib) (24.2)\n",
      "Requirement already satisfied: pillow>=8 in c:\\users\\user\\appdata\\roaming\\python\\python313\\site-packages (from matplotlib) (11.1.0)\n",
      "Requirement already satisfied: pyparsing>=2.3.1 in c:\\users\\user\\appdata\\roaming\\python\\python313\\site-packages (from matplotlib) (3.2.3)\n",
      "Requirement already satisfied: python-dateutil>=2.7 in c:\\users\\user\\appdata\\roaming\\python\\python313\\site-packages (from matplotlib) (2.9.0.post0)\n",
      "Requirement already satisfied: six>=1.5 in c:\\users\\user\\appdata\\roaming\\python\\python313\\site-packages (from python-dateutil>=2.7->matplotlib) (1.17.0)\n",
      "Note: you may need to restart the kernel to use updated packages.\n"
     ]
    }
   ],
   "source": [
    "pip install matplotlib\n"
   ]
  },
  {
   "cell_type": "code",
   "execution_count": 16,
   "id": "8bd546aa-66b3-45fe-9144-9e1edf801d92",
   "metadata": {},
   "outputs": [
    {
     "name": "stdout",
     "output_type": "stream",
     "text": [
      "Defaulting to user installation because normal site-packages is not writeable\n",
      "Requirement already satisfied: matplotlib in c:\\users\\user\\appdata\\roaming\\python\\python313\\site-packages (3.10.1)\n",
      "Requirement already satisfied: contourpy>=1.0.1 in c:\\users\\user\\appdata\\roaming\\python\\python313\\site-packages (from matplotlib) (1.3.1)\n",
      "Requirement already satisfied: cycler>=0.10 in c:\\users\\user\\appdata\\roaming\\python\\python313\\site-packages (from matplotlib) (0.12.1)\n",
      "Requirement already satisfied: fonttools>=4.22.0 in c:\\users\\user\\appdata\\roaming\\python\\python313\\site-packages (from matplotlib) (4.56.0)\n",
      "Requirement already satisfied: kiwisolver>=1.3.1 in c:\\users\\user\\appdata\\roaming\\python\\python313\\site-packages (from matplotlib) (1.4.8)\n",
      "Requirement already satisfied: numpy>=1.23 in c:\\users\\user\\appdata\\roaming\\python\\python313\\site-packages (from matplotlib) (2.2.4)\n",
      "Requirement already satisfied: packaging>=20.0 in c:\\users\\user\\appdata\\roaming\\python\\python313\\site-packages (from matplotlib) (24.2)\n",
      "Requirement already satisfied: pillow>=8 in c:\\users\\user\\appdata\\roaming\\python\\python313\\site-packages (from matplotlib) (11.1.0)\n",
      "Requirement already satisfied: pyparsing>=2.3.1 in c:\\users\\user\\appdata\\roaming\\python\\python313\\site-packages (from matplotlib) (3.2.3)\n",
      "Requirement already satisfied: python-dateutil>=2.7 in c:\\users\\user\\appdata\\roaming\\python\\python313\\site-packages (from matplotlib) (2.9.0.post0)\n",
      "Requirement already satisfied: six>=1.5 in c:\\users\\user\\appdata\\roaming\\python\\python313\\site-packages (from python-dateutil>=2.7->matplotlib) (1.17.0)\n"
     ]
    }
   ],
   "source": [
    "!pip install matplotlib\n"
   ]
  },
  {
   "cell_type": "code",
   "execution_count": 17,
   "id": "b8f8b7f8-8f85-46ea-9df7-61e1433932b1",
   "metadata": {},
   "outputs": [
    {
     "data": {
      "image/png": "[encoded data removed]",
      "text/plain": [
       "<Figure size 640x480 with 1 Axes>"
      ]
     },
     "metadata": {},
     "output_type": "display_data"
    }
   ],
   "source": [
    "import matplotlib.pyplot as plt\n",
    "\n",
    "x = [1, 2, 3, 4, 5]  \n",
    "y = [10, 15, 25, 30, 50]  \n",
    "\n",
    "plt.plot(x, y)  \n",
    "\n",
    "plt.title('Simple Line Plot')  \n",
    "plt.xlabel('X-axis')  \n",
    "plt.ylabel('Y-axis')  \n",
    "plt.grid(True)  \n",
    "\n",
    "plt.show()  "
   ]
  },
  {
   "cell_type": "code",
   "execution_count": 18,
   "id": "e389118f-5644-46c5-8b6e-370a40fd302f",
   "metadata": {},
   "outputs": [
    {
     "data": {
      "image/png": "[encoded data removed]",
      "text/plain": [
       "<Figure size 640x480 with 1 Axes>"
      ]
     },
     "metadata": {},
     "output_type": "display_data"
    }
   ],
   "source": [
    "import matplotlib.pyplot as plt\n",
    "\n",
    "students = ['John', 'Jane', 'Alice', 'Bob']  \n",
    "marks = [75, 85, 60, 90] \n",
    "\n",
    "plt.bar(students, marks, color=['blue', 'green', 'red', 'yellow'])  \n",
    "\n",
    "plt.title('Marks Scored by Students')  \n",
    "\n",
    "plt.xlabel('Student Names')\n",
    "plt.ylabel('Marks')\n",
    "\n",
    "plt.show()  "
   ]
  },
  {
   "cell_type": "code",
   "execution_count": 20,
   "id": "2495bd03-0d9b-4379-a534-84ac8912d2e4",
   "metadata": {},
   "outputs": [
    {
     "data": {
      "image/png": "[encoded data removed]",
      "text/plain": [
       "<Figure size 640x480 with 1 Axes>"
      ]
     },
     "metadata": {},
     "output_type": "display_data"
    }
   ],
   "source": [
    "import matplotlib.pyplot as plt\n",
    "\n",
    "regions = ['North America', 'Europe', 'Asia', 'Others']\n",
    "revenue = [45, 25, 20, 10]\n",
    "\n",
    "max_revenue_index = revenue.index(max(revenue))\n",
    "\n",
    "explode = [0.1 if i == max_revenue_index else 0 for i in range(len(regions))]\n",
    "\n",
    "plt.pie(revenue, labels=regions, autopct='%1.1f%%', explode=explode)\n",
    "\n",
    "plt.axis('equal')\n",
    "\n",
    "plt.show()"
   ]
  },
  {
   "cell_type": "code",
   "execution_count": 21,
   "id": "7a0d2048-c9ab-41c7-b7df-ba35bbde245b",
   "metadata": {},
   "outputs": [
    {
     "data": {
      "image/png": "[encoded data removed]",
      "text/plain": [
       "<Figure size 640x480 with 1 Axes>"
      ]
     },
     "metadata": {},
     "output_type": "display_data"
    }
   ],
   "source": [
    "\n",
    "import numpy as np\n",
    "import matplotlib.pyplot as plt\n",
    "\n",
    "# Generate 1000 random integers between 1 and 100\n",
    "np.random.seed(0)  # Ensures reproducibility\n",
    "random_integers = np.random.randint(1, 101, size=1000)\n",
    "\n",
    "# Create a histogram to show the frequency distribution\n",
    "plt.hist(random_integers, bins=10, edgecolor='black')\n",
    "\n",
    "# Add title and labels\n",
    "plt.title('Frequency Distribution of Random Integers')\n",
    "plt.xlabel('Integer Value')\n",
    "plt.ylabel('Frequency')\n",
    "\n",
    "# Display the plot\n",
    "plt.show()"
   ]
  },
  {
   "cell_type": "code",
   "execution_count": null,
   "id": "a575e199-d6f1-4352-b210-8d1ad5b94e61",
   "metadata": {},
   "outputs": [],
   "source": []
  }
 ],
 "metadata": {
  "kernelspec": {
   "display_name": "Python 3 (ipykernel)",
   "language": "python",
   "name": "python3"
  },
  "language_info": {
   "codemirror_mode": {
    "name": "ipython",
    "version": 3
   },
   "file_extension": ".py",
   "mimetype": "text/x-python",
   "name": "python",
   "nbconvert_exporter": "python",
   "pygments_lexer": "ipython3",
   "version": "3.13.2"
  }
 },
 "nbformat": 4,
 "nbformat_minor": 5
}
