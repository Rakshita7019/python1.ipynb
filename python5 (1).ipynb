{
 "cells": [
  {
   "cell_type": "code",
   "execution_count": 1,
   "id": "5f027c9c-417a-4d81-8087-31f03b56a2e2",
   "metadata": {},
   "outputs": [
    {
     "name": "stdout",
     "output_type": "stream",
     "text": [
      "Defaulting to user installation because normal site-packages is not writeable\n",
      "Requirement already satisfied: numpy in c:\\users\\user\\appdata\\roaming\\python\\python313\\site-packages (2.2.4)\n",
      "Note: you may need to restart the kernel to use updated packages.\n"
     ]
    }
   ],
   "source": [
    "pip install numpy\n"
   ]
  },
  {
   "cell_type": "code",
   "execution_count": 2,
   "id": "8e18a985-9e6e-4d7d-a844-aa803d49e05c",
   "metadata": {},
   "outputs": [
    {
     "name": "stdout",
     "output_type": "stream",
     "text": [
      "Defaulting to user installation because normal site-packages is not writeable\n",
      "Requirement already satisfied: numpy in c:\\users\\user\\appdata\\roaming\\python\\python313\\site-packages (2.2.4)\n"
     ]
    }
   ],
   "source": [
    "!pip install numpy\n"
   ]
  },
  {
   "cell_type": "code",
   "execution_count": 3,
   "id": "15835c38-30d8-4bec-8280-c5e98521bcdb",
   "metadata": {},
   "outputs": [
    {
     "name": "stdout",
     "output_type": "stream",
     "text": [
      "Matrix-Vector Multiplication Result:\n",
      "[14 32 50]\n",
      "\n",
      "Trace of Matrix A:\n",
      "15\n",
      "\n",
      "Eigenvalues of Matrix A:\n",
      "[ 1.61168440e+01 -1.11684397e+00 -1.30367773e-15]\n",
      "\n",
      "Eigenvectors of Matrix A:\n",
      "[[-0.23197069 -0.78583024  0.40824829]\n",
      " [-0.52532209 -0.08675134 -0.81649658]\n",
      " [-0.8186735   0.61232756  0.40824829]]\n"
     ]
    }
   ],
   "source": [
    "import numpy as np\n",
    "\n",
    "A = np.array([[1, 2, 3], [4, 5, 6], [7, 8, 9]])\n",
    "B = np.array([1, 2, 3])\n",
    "\n",
    "result = np.dot(A, B)\n",
    "print(\"Matrix-Vector Multiplication Result:\")\n",
    "print(result)\n",
    "\n",
    "trace = np.trace(A)\n",
    "print(\"\\nTrace of Matrix A:\")\n",
    "print(trace)\n",
    "\n",
    "eigenvalues, eigenvectors = np.linalg.eig(A)\n",
    "print(\"\\nEigenvalues of Matrix A:\")\n",
    "print(eigenvalues)\n",
    "print(\"\\nEigenvectors of Matrix A:\")\n",
    "print(eigenvectors)"
   ]
  },
  {
   "cell_type": "code",
   "execution_count": 4,
   "id": "c6239178-a8f0-4199-b8be-3c0c5cfb52c4",
   "metadata": {},
   "outputs": [
    {
     "name": "stdout",
     "output_type": "stream",
     "text": [
      "Determinant of the updated matrix A:\n",
      "0.0\n",
      "\n",
      "The updated matrix A is singular.\n"
     ]
    }
   ],
   "source": [
    "import numpy as np\n",
    "\n",
    "A = np.array([[1, 2, 3], [4, 5, 6], [7, 8, 9]])\n",
    "\n",
    "A[-1, :] = [10, 11, 12]\n",
    "\n",
    "det_A = np.linalg.det(A)\n",
    "print(\"Determinant of the updated matrix A:\")\n",
    "print(det_A)\n",
    "\n",
    "if det_A == 0:\n",
    "    print(\"\\nThe updated matrix A is singular.\")\n",
    "else:\n",
    "    print(\"\\nThe updated matrix A is non-singular.\")"
   ]
  },
  {
   "cell_type": "code",
   "execution_count": 5,
   "id": "e9d3d57a-f710-4618-a785-69b4cd9f3d26",
   "metadata": {},
   "outputs": [
    {
     "name": "stdout",
     "output_type": "stream",
     "text": [
      "The matrix A is not invertible.\n"
     ]
    }
   ],
   "source": [
    "import numpy as np\n",
    "\n",
    "A = np.array([[1, 2, 3], [4, 5, 6], [7, 8, 9]])\n",
    "\n",
    "A[-1, :] = [10, 11, 12]\n",
    "\n",
    "det_A = np.linalg.det(A)\n",
    "\n",
    "if det_A != 0:\n",
    "    print(\"The matrix A is invertible.\")\n",
    "    inv_A = np.linalg.inv(A)\n",
    "    print(\"Inverse of Matrix A:\")\n",
    "    print(inv_A)\n",
    "else:\n",
    "    print(\"The matrix A is not invertible.\")"
   ]
  },
  {
   "cell_type": "code",
   "execution_count": 6,
   "id": "ca224ed6-8b0e-47c9-9c25-48754a9d6eb7",
   "metadata": {},
   "outputs": [
    {
     "name": "stdout",
     "output_type": "stream",
     "text": [
      "The matrix A is not invertible.\n"
     ]
    }
   ],
   "source": [
    "import numpy as np\n",
    "\n",
    "A = np.array([[1, 2, 3], [4, 5, 6], [7, 8, 9]])\n",
    "\n",
    "A[-1, :] = [10, 11, 12]\n",
    "\n",
    "B = np.array([1, 2, 3])\n",
    "\n",
    "det_A = np.linalg.det(A)\n",
    "\n",
    "if det_A != 0:\n",
    "    print(\"The matrix A is invertible.\")\n",
    "    \n",
    "    inv_A = np.linalg.inv(A)\n",
    "    \n",
    "    X = np.dot(inv_A, B)\n",
    "    \n",
    "    print(\"Solution to the system of linear equations (X):\")\n",
    "    print(X)\n",
    "else:\n",
    "    print(\"The matrix A is not invertible.\")"
   ]
  },
  {
   "cell_type": "code",
   "execution_count": 7,
   "id": "dc0a581d-0315-471a-856f-2d324636a74d",
   "metadata": {},
   "outputs": [
    {
     "name": "stdout",
     "output_type": "stream",
     "text": [
      "Matrix C:\n",
      "[[15  2 18 12]\n",
      " [ 9 19 11 13]\n",
      " [12 11 10  2]\n",
      " [16 11 17  4]]\n",
      "\n",
      "Rank of Matrix C:\n",
      "4\n",
      "\n",
      "Submatrix of C (first 2 rows and last 2 columns):\n",
      "[[18 12]\n",
      " [11 13]]\n",
      "\n",
      "Frobenius Norm of Matrix C:\n",
      "49.79959839195493\n"
     ]
    }
   ],
   "source": [
    "import numpy as np\n",
    "\n",
    "C = np.random.randint(1, 21, size=(4, 4))\n",
    "print(\"Matrix C:\")\n",
    "print(C)\n",
    "\n",
    "rank_C = np.linalg.matrix_rank(C)\n",
    "print(\"\\nRank of Matrix C:\")\n",
    "print(rank_C)\n",
    "\n",
    "submatrix_C = C[:2, -2:]\n",
    "print(\"\\nSubmatrix of C (first 2 rows and last 2 columns):\")\n",
    "print(submatrix_C)\n",
    "\n",
    "frobenius_norm_C = np.linalg.norm(C)\n",
    "print(\"\\nFrobenius Norm of Matrix C:\")\n",
    "print(frobenius_norm_C)"
   ]
  },
  {
   "cell_type": "code",
   "execution_count": 8,
   "id": "b7f2c8e5-3492-4857-9422-74e755214e2c",
   "metadata": {},
   "outputs": [
    {
     "name": "stdout",
     "output_type": "stream",
     "text": [
      "Matrix C:\n",
      "[[18 16  1 19]\n",
      " [ 7 20 17  4]\n",
      " [ 9 17  5 14]\n",
      " [17  8  9 14]]\n",
      "\n",
      "Matrix multiplication is valid.\n",
      "Result of Matrix Multiplication:\n",
      "[[ 59 107  50]\n",
      " [161 266 119]\n",
      " [365 584 257]]\n"
     ]
    }
   ],
   "source": [
    "import numpy as np\n",
    "\n",
    "A = np.array([[1, 2, 3], [4, 5, 6], [7, 8, 9]])\n",
    "\n",
    "A[-1, :] = [10, 11, 12]\n",
    "\n",
    "C = np.random.randint(1, 21, size=(4, 4))\n",
    "print(\"Matrix C:\")\n",
    "print(C)\n",
    "\n",
    "C = C[:3, :3]\n",
    "\n",
    "if A.shape[1] == C.shape[0]:\n",
    "    print(\"\\nMatrix multiplication is valid.\")\n",
    "    result = np.dot(A, C)\n",
    "    print(\"Result of Matrix Multiplication:\")\n",
    "    print(result)\n",
    "else:\n",
    "    print(\"\\nMatrix multiplication is not valid. Reshaping C to make it compatible with A.\")\n",
    "    C = C.T  \n",
    "    print(\"Reshaped Matrix C:\")\n",
    "    print(C)\n",
    "    result = np.dot(A, C)\n",
    "    print(\"Result of Matrix Multiplication:\")\n",
    "    print(result)"
   ]
  },
  {
   "cell_type": "code",
   "execution_count": 10,
   "id": "1e21b843-9364-481c-8862-80ac20a1c234",
   "metadata": {},
   "outputs": [
    {
     "name": "stdout",
     "output_type": "stream",
     "text": [
      "Standardized Matrix D:\n",
      "[[ 0.          0.          0.          0.          0.        ]\n",
      " [-0.70710678 -0.70710678 -0.70710678 -0.70710678 -0.70710678]\n",
      " [-1.41421356 -1.41421356 -1.41421356 -1.41421356 -1.41421356]\n",
      " [ 0.70710678  0.70710678  0.70710678  0.70710678  0.70710678]\n",
      " [ 1.41421356  1.41421356  1.41421356  1.41421356  1.41421356]]\n",
      "\n",
      "Covariance Matrix of D:\n",
      "[[1.25 1.25 1.25 1.25 1.25]\n",
      " [1.25 1.25 1.25 1.25 1.25]\n",
      " [1.25 1.25 1.25 1.25 1.25]\n",
      " [1.25 1.25 1.25 1.25 1.25]\n",
      " [1.25 1.25 1.25 1.25 1.25]]\n",
      "\n",
      "Eigenvalues (Variance explained by each principal component):\n",
      "[1.00000000e+00 3.94430453e-33]\n",
      "\n",
      "Eigenvectors (Principal components):\n",
      "[[ 0.4472136   0.4472136   0.4472136   0.4472136   0.4472136 ]\n",
      " [ 0.89442719 -0.2236068  -0.2236068  -0.2236068  -0.2236068 ]]\n",
      "\n",
      "Matrix D reduced to 2 principal components:\n",
      "[[-0.00000000e+00 -3.14018492e-16]\n",
      " [-1.58113883e+00 -3.48630560e-32]\n",
      " [-3.16227766e+00  0.00000000e+00]\n",
      " [ 1.58113883e+00  0.00000000e+00]\n",
      " [ 3.16227766e+00  0.00000000e+00]]\n"
     ]
    }
   ],
   "source": [
    "import numpy as np\n",
    "from sklearn.preprocessing import StandardScaler\n",
    "from sklearn.decomposition import PCA\n",
    "\n",
    "# Create a dataset as a 5 × 5 matrix D\n",
    "D = np.array([[3, 5, 7, 9, 11], \n",
    "              [2, 4, 6, 8, 10], \n",
    "              [1, 3, 5, 7, 9], \n",
    "              [4, 6, 8, 10, 12], \n",
    "              [5, 7, 9, 11, 13]])\n",
    "\n",
    "# Standardize D column-wise (mean = 0, variance = 1)\n",
    "scaler = StandardScaler()\n",
    "D_std = scaler.fit_transform(D)\n",
    "\n",
    "# Compute the covariance matrix of D\n",
    "cov_matrix = np.cov(D_std.T)\n",
    "\n",
    "# Perform Principal Component Analysis (PCA)\n",
    "pca = PCA(n_components=2)\n",
    "D_pca = pca.fit_transform(D_std)\n",
    "\n",
    "# Find the eigenvalues and eigenvectors of the covariance matrix\n",
    "eigenvalues = pca.explained_variance_ratio_\n",
    "eigenvectors = pca.components_\n",
    "\n",
    "# Output results\n",
    "print(\"Standardized Matrix D:\")\n",
    "print(D_std)\n",
    "print(\"\\nCovariance Matrix of D:\")\n",
    "print(cov_matrix)\n",
    "print(\"\\nEigenvalues (Variance explained by each principal component):\")\n",
    "print(eigenvalues)\n",
    "print(\"\\nEigenvectors (Principal components):\")\n",
    "print(eigenvectors)\n",
    "print(\"\\nMatrix D reduced to 2 principal components:\")\n",
    "print(D_pca)"
   ]
  },
  {
   "cell_type": "code",
   "execution_count": null,
   "id": "ee310be6-a14b-49b0-b305-ab3eaa7f8adc",
   "metadata": {},
   "outputs": [],
   "source": []
  }
 ],
 "metadata": {
  "kernelspec": {
   "display_name": "Python 3 (ipykernel)",
   "language": "python",
   "name": "python3"
  },
  "language_info": {
   "codemirror_mode": {
    "name": "ipython",
    "version": 3
   },
   "file_extension": ".py",
   "mimetype": "text/x-python",
   "name": "python",
   "nbconvert_exporter": "python",
   "pygments_lexer": "ipython3",
   "version": "3.13.2"
  }
 },
 "nbformat": 4,
 "nbformat_minor": 5
}
