{
 "cells": [
  {
   "cell_type": "code",
   "execution_count": 1,
   "id": "1aedacb3-4bd4-480f-ae65-b3e19d0be853",
   "metadata": {},
   "outputs": [
    {
     "name": "stdout",
     "output_type": "stream",
     "text": [
      "Employee Data:\n",
      "Employee ID: 101\n",
      "Name: Satya\n",
      "Age: 27\n",
      "Department: HR\n",
      "Salary: 50000\n",
      "--------------------\n",
      "Employee ID: 102\n",
      "Name: John\n",
      "Age: 30\n",
      "Department: Marketing\n",
      "Salary: 60000\n",
      "--------------------\n",
      "Employee ID: 103\n",
      "Name: Emma\n",
      "Age: 25\n",
      "Department: Sales\n",
      "Salary: 45000\n",
      "--------------------\n",
      "Employee ID: 104\n",
      "Name: Michael\n",
      "Age: 35\n",
      "Department: IT\n",
      "Salary: 70000\n",
      "--------------------\n",
      "Employee ID: 105\n",
      "Name: Sophia\n",
      "Age: 28\n",
      "Department: Finance\n",
      "Salary: 55000\n",
      "--------------------\n"
     ]
    }
   ],
   "source": [
    "employee_data = {\n",
    "    101: {'name': 'Satya', 'age': 27, 'department': 'HR', 'salary': 50000},\n",
    "    102: {'name': 'John', 'age': 30, 'department': 'Marketing', 'salary': 60000},\n",
    "    103: {'name': 'Emma', 'age': 25, 'department': 'Sales', 'salary': 45000},\n",
    "    104: {'name': 'Michael', 'age': 35, 'department': 'IT', 'salary': 70000},\n",
    "    105: {'name': 'Sophia', 'age': 28, 'department': 'Finance', 'salary': 55000}\n",
    "}\n",
    "\n",
    "# Print the employee data\n",
    "print(\"Employee Data:\")\n",
    "for emp_id, emp_info in employee_data.items():\n",
    "    print(f\"Employee ID: {emp_id}\")\n",
    "    print(f\"Name: {emp_info['name']}\")\n",
    "    print(f\"Age: {emp_info['age']}\")\n",
    "    print(f\"Department: {emp_info['department']}\")\n",
    "    print(f\"Salary: {emp_info['salary']}\")\n",
    "    print(\"--------------------\")\n"
   ]
  },
  {
   "cell_type": "code",
   "execution_count": 2,
   "id": "2b8249d5-442a-4dfb-aac6-de518a06eb8f",
   "metadata": {},
   "outputs": [
    {
     "name": "stdout",
     "output_type": "stream",
     "text": [
      "Employee Management System\n",
      "--------------------------------\n",
      "1. Add Employee\n",
      "2. View All Employees\n",
      "3. Search for Employee\n",
      "4. Exit\n"
     ]
    },
    {
     "name": "stdin",
     "output_type": "stream",
     "text": [
      "Enter your choice:  1\n",
      "Enter Employee ID:  101\n",
      "Enter Employee Name:  Satya\n",
      "Enter Employee Age:  27\n",
      "Enter Employee Department:  HR\n",
      "Enter Employee Salary:  50000\n"
     ]
    },
    {
     "name": "stdout",
     "output_type": "stream",
     "text": [
      "Employee Satya with ID 101 added successfully!\n",
      "Employee Management System\n",
      "--------------------------------\n",
      "1. Add Employee\n",
      "2. View All Employees\n",
      "3. Search for Employee\n",
      "4. Exit\n"
     ]
    },
    {
     "name": "stdin",
     "output_type": "stream",
     "text": [
      "Enter your choice:  2\n"
     ]
    },
    {
     "name": "stdout",
     "output_type": "stream",
     "text": [
      "Employee Data:\n",
      "--------------------\n",
      "Employee ID: 101\n",
      "Name: Satya\n",
      "Age: 27\n",
      "Department: HR\n",
      "Salary: 50000.0\n",
      "--------------------\n",
      "Employee ID: 102\n",
      "Name: John\n",
      "Age: 30\n",
      "Department: Marketing\n",
      "Salary: 60000\n",
      "--------------------\n",
      "Employee ID: 103\n",
      "Name: Emma\n",
      "Age: 25\n",
      "Department: Sales\n",
      "Salary: 45000\n",
      "--------------------\n",
      "Employee ID: 104\n",
      "Name: Michael\n",
      "Age: 35\n",
      "Department: IT\n",
      "Salary: 70000\n",
      "--------------------\n",
      "Employee ID: 105\n",
      "Name: Sophia\n",
      "Age: 28\n",
      "Department: Finance\n",
      "Salary: 55000\n",
      "--------------------\n",
      "Employee Management System\n",
      "--------------------------------\n",
      "1. Add Employee\n",
      "2. View All Employees\n",
      "3. Search for Employee\n",
      "4. Exit\n"
     ]
    },
    {
     "name": "stdin",
     "output_type": "stream",
     "text": [
      "Enter your choice:  3\n",
      "Enter Employee ID to search:  101\n"
     ]
    },
    {
     "name": "stdout",
     "output_type": "stream",
     "text": [
      "Employee ID: 101\n",
      "Name: Satya\n",
      "Age: 27\n",
      "Department: HR\n",
      "Salary: 50000.0\n",
      "Employee Management System\n",
      "--------------------------------\n",
      "1. Add Employee\n",
      "2. View All Employees\n",
      "3. Search for Employee\n",
      "4. Exit\n"
     ]
    },
    {
     "name": "stdin",
     "output_type": "stream",
     "text": [
      "Enter your choice:  4\n"
     ]
    },
    {
     "name": "stdout",
     "output_type": "stream",
     "text": [
      "Exiting the system. Goodbye!\n"
     ]
    }
   ],
   "source": [
    "def display_menu():\n",
    "    print(\"Employee Management System\")\n",
    "    print(\"--------------------------------\")\n",
    "    print(\"1. Add Employee\")\n",
    "    print(\"2. View All Employees\")\n",
    "    print(\"3. Search for Employee\")\n",
    "    print(\"4. Exit\")\n",
    "\n",
    "def add_employee(employee_data):\n",
    "    emp_id = int(input(\"Enter Employee ID: \"))\n",
    "    name = input(\"Enter Employee Name: \")\n",
    "    age = int(input(\"Enter Employee Age: \"))\n",
    "    department = input(\"Enter Employee Department: \")\n",
    "    salary = float(input(\"Enter Employee Salary: \"))\n",
    "    employee_data[emp_id] = {\n",
    "        'name': name,\n",
    "        'age': age,\n",
    "        'department': department,\n",
    "        'salary': salary\n",
    "    }\n",
    "    print(f\"Employee {name} with ID {emp_id} added successfully!\")\n",
    "\n",
    "def view_all_employees(employee_data):\n",
    "    if not employee_data:\n",
    "        print(\"No employees available.\")\n",
    "    else:\n",
    "        print(\"Employee Data:\")\n",
    "        print(\"--------------------\")\n",
    "        for emp_id, emp_info in employee_data.items():\n",
    "            print(f\"Employee ID: {emp_id}\")\n",
    "            print(f\"Name: {emp_info['name']}\")\n",
    "            print(f\"Age: {emp_info['age']}\")\n",
    "            print(f\"Department: {emp_info['department']}\")\n",
    "            print(f\"Salary: {emp_info['salary']}\")\n",
    "            print(\"--------------------\")\n",
    "\n",
    "def search_for_employee(employee_data):\n",
    "    emp_id = int(input(\"Enter Employee ID to search: \"))\n",
    "    if emp_id in employee_data:\n",
    "        emp_info = employee_data[emp_id]\n",
    "        print(f\"Employee ID: {emp_id}\")\n",
    "        print(f\"Name: {emp_info['name']}\")\n",
    "        print(f\"Age: {emp_info['age']}\")\n",
    "        print(f\"Department: {emp_info['department']}\")\n",
    "        print(f\"Salary: {emp_info['salary']}\")\n",
    "    else:\n",
    "        print(\"Employee not found.\")\n",
    "\n",
    "def main():\n",
    "    employee_data = {\n",
    "        101: {'name': 'Satya', 'age': 27, 'department': 'HR', 'salary': 50000},\n",
    "        102: {'name': 'John', 'age': 30, 'department': 'Marketing', 'salary': 60000},\n",
    "        103: {'name': 'Emma', 'age': 25, 'department': 'Sales', 'salary': 45000},\n",
    "        104: {'name': 'Michael', 'age': 35, 'department': 'IT', 'salary': 70000},\n",
    "        105: {'name': 'Sophia', 'age': 28, 'department': 'Finance', 'salary': 55000}\n",
    "    }\n",
    "\n",
    "    while True:\n",
    "        display_menu()\n",
    "        choice = input(\"Enter your choice: \")\n",
    "        if choice == \"1\":\n",
    "            add_employee(employee_data)\n",
    "        elif choice == \"2\":\n",
    "            view_all_employees(employee_data)\n",
    "        elif choice == \"3\":\n",
    "            search_for_employee(employee_data)\n",
    "        elif choice == \"4\":\n",
    "            print(\"Exiting the system. Goodbye!\")\n",
    "            break\n",
    "        else:\n",
    "            print(\"Invalid choice. Please try again.\")\n",
    "\n",
    "if __name__ == \"__main__\":\n",
    "    main()\n",
    "\n"
   ]
  },
  {
   "cell_type": "code",
   "execution_count": 3,
   "id": "8ac678df-fe7c-4a19-86b9-7bdf929d9b70",
   "metadata": {},
   "outputs": [
    {
     "name": "stdout",
     "output_type": "stream",
     "text": [
      "Employee Management System\n",
      "--------------------------------\n",
      "1. Add Employee\n",
      "2. View All Employees\n",
      "3. Search for Employee\n",
      "4. Exit\n"
     ]
    },
    {
     "name": "stdin",
     "output_type": "stream",
     "text": [
      "Enter your choice:  1\n",
      "Enter Employee ID:  101\n",
      "Enter Employee Name:  Satya\n",
      "Enter Employee Age:  27\n",
      "Enter Employee Department:  HR\n",
      "Enter Employee Salary:  50000\n"
     ]
    },
    {
     "name": "stdout",
     "output_type": "stream",
     "text": [
      "Employee Satya with ID 101 added successfully!\n",
      "Employee Management System\n",
      "--------------------------------\n",
      "1. Add Employee\n",
      "2. View All Employees\n",
      "3. Search for Employee\n",
      "4. Exit\n"
     ]
    },
    {
     "name": "stdin",
     "output_type": "stream",
     "text": [
      "Enter your choice:  2\n"
     ]
    },
    {
     "name": "stdout",
     "output_type": "stream",
     "text": [
      "Employee Data:\n",
      "--------------------\n",
      "Employee ID: 101\n",
      "Name: Satya\n",
      "Age: 27\n",
      "Department: HR\n",
      "Salary: 50000.0\n",
      "--------------------\n",
      "Employee ID: 102\n",
      "Name: John\n",
      "Age: 30\n",
      "Department: Marketing\n",
      "Salary: 60000\n",
      "--------------------\n",
      "Employee ID: 103\n",
      "Name: Emma\n",
      "Age: 25\n",
      "Department: Sales\n",
      "Salary: 45000\n",
      "--------------------\n",
      "Employee ID: 104\n",
      "Name: Michael\n",
      "Age: 35\n",
      "Department: IT\n",
      "Salary: 70000\n",
      "--------------------\n",
      "Employee ID: 105\n",
      "Name: Sophia\n",
      "Age: 28\n",
      "Department: Finance\n",
      "Salary: 55000\n",
      "--------------------\n",
      "Employee Management System\n",
      "--------------------------------\n",
      "1. Add Employee\n",
      "2. View All Employees\n",
      "3. Search for Employee\n",
      "4. Exit\n"
     ]
    },
    {
     "name": "stdin",
     "output_type": "stream",
     "text": [
      "Enter your choice:  3\n",
      "Enter Employee ID to search:  101\n"
     ]
    },
    {
     "name": "stdout",
     "output_type": "stream",
     "text": [
      "Employee ID: 101\n",
      "Name: Satya\n",
      "Age: 27\n",
      "Department: HR\n",
      "Salary: 50000.0\n",
      "Employee Management System\n",
      "--------------------------------\n",
      "1. Add Employee\n",
      "2. View All Employees\n",
      "3. Search for Employee\n",
      "4. Exit\n"
     ]
    },
    {
     "name": "stdin",
     "output_type": "stream",
     "text": [
      "Enter your choice:  4\n"
     ]
    },
    {
     "name": "stdout",
     "output_type": "stream",
     "text": [
      "Exiting the system. Goodbye!\n"
     ]
    }
   ],
   "source": [
    "def display_menu():\n",
    "    print(\"Employee Management System\")\n",
    "    print(\"--------------------------------\")\n",
    "    print(\"1. Add Employee\")\n",
    "    print(\"2. View All Employees\")\n",
    "    print(\"3. Search for Employee\")\n",
    "    print(\"4. Exit\")\n",
    "\n",
    "def add_employee(employee_data):\n",
    "    emp_id = int(input(\"Enter Employee ID: \"))\n",
    "    name = input(\"Enter Employee Name: \")\n",
    "    age = int(input(\"Enter Employee Age: \"))\n",
    "    department = input(\"Enter Employee Department: \")\n",
    "    salary = float(input(\"Enter Employee Salary: \"))\n",
    "    employee_data[emp_id] = {\n",
    "        'name': name,\n",
    "        'age': age,\n",
    "        'department': department,\n",
    "        'salary': salary\n",
    "    }\n",
    "    print(f\"Employee {name} with ID {emp_id} added successfully!\")\n",
    "\n",
    "def view_all_employees(employee_data):\n",
    "    if not employee_data:\n",
    "        print(\"No employees available.\")\n",
    "    else:\n",
    "        print(\"Employee Data:\")\n",
    "        print(\"--------------------\")\n",
    "        for emp_id, emp_info in employee_data.items():\n",
    "            print(f\"Employee ID: {emp_id}\")\n",
    "            print(f\"Name: {emp_info['name']}\")\n",
    "            print(f\"Age: {emp_info['age']}\")\n",
    "            print(f\"Department: {emp_info['department']}\")\n",
    "            print(f\"Salary: {emp_info['salary']}\")\n",
    "            print(\"--------------------\")\n",
    "\n",
    "def search_for_employee(employee_data):\n",
    "    emp_id = int(input(\"Enter Employee ID to search: \"))\n",
    "    if emp_id in employee_data:\n",
    "        emp_info = employee_data[emp_id]\n",
    "        print(f\"Employee ID: {emp_id}\")\n",
    "        print(f\"Name: {emp_info['name']}\")\n",
    "        print(f\"Age: {emp_info['age']}\")\n",
    "        print(f\"Department: {emp_info['department']}\")\n",
    "        print(f\"Salary: {emp_info['salary']}\")\n",
    "    else:\n",
    "        print(\"Employee not found.\")\n",
    "\n",
    "def main():\n",
    "    employee_data = {\n",
    "        101: {'name': 'Satya', 'age': 27, 'department': 'HR', 'salary': 50000},\n",
    "        102: {'name': 'John', 'age': 30, 'department': 'Marketing', 'salary': 60000},\n",
    "        103: {'name': 'Emma', 'age': 25, 'department': 'Sales', 'salary': 45000},\n",
    "        104: {'name': 'Michael', 'age': 35, 'department': 'IT', 'salary': 70000},\n",
    "        105: {'name': 'Sophia', 'age': 28, 'department': 'Finance', 'salary': 55000}\n",
    "    }\n",
    "\n",
    "    while True:\n",
    "        display_menu()\n",
    "        choice = input(\"Enter your choice: \")\n",
    "        if choice == \"1\":\n",
    "            add_employee(employee_data)\n",
    "        elif choice == \"2\":\n",
    "            view_all_employees(employee_data)\n",
    "        elif choice == \"3\":\n",
    "            search_for_employee(employee_data)\n",
    "        elif choice == \"4\":\n",
    "            print(\"Exiting the system. Goodbye!\")\n",
    "            break\n",
    "        else:\n",
    "            print(\"Invalid choice. Please try again.\")\n",
    "\n",
    "if __name__ == \"__main__\":\n",
    "    main()\n"
   ]
  },
  {
   "cell_type": "code",
   "execution_count": 4,
   "id": "860c0672-4942-414a-81c5-b52b359c8279",
   "metadata": {},
   "outputs": [
    {
     "name": "stdout",
     "output_type": "stream",
     "text": [
      "Employee Management System\n",
      "--------------------------------\n",
      "1. Add Employee\n",
      "2. View All Employees\n",
      "3. Search for Employee\n",
      "4. Exit\n"
     ]
    },
    {
     "name": "stdin",
     "output_type": "stream",
     "text": [
      "Enter your choice:  1\n",
      "Enter Employee ID:  106\n",
      "Enter Employee Name:  Ashwini\n",
      "Enter Employee Age:  25\n",
      "Enter Employee Department:  HR\n",
      "Enter Employee Salary:  55000\n"
     ]
    },
    {
     "name": "stdout",
     "output_type": "stream",
     "text": [
      "Employee Ashwini with ID 106 added successfully!\n",
      "Employee Management System\n",
      "--------------------------------\n",
      "1. Add Employee\n",
      "2. View All Employees\n",
      "3. Search for Employee\n",
      "4. Exit\n"
     ]
    },
    {
     "name": "stdin",
     "output_type": "stream",
     "text": [
      "Enter your choice:  2\n"
     ]
    },
    {
     "name": "stdout",
     "output_type": "stream",
     "text": [
      "Employee Data:\n",
      "--------------------\n",
      "Employee ID: 101\n",
      "Name: Satya\n",
      "Age: 27\n",
      "Department: HR\n",
      "Salary: 50000\n",
      "--------------------\n",
      "Employee ID: 102\n",
      "Name: John\n",
      "Age: 30\n",
      "Department: Marketing\n",
      "Salary: 60000\n",
      "--------------------\n",
      "Employee ID: 103\n",
      "Name: Emma\n",
      "Age: 25\n",
      "Department: Sales\n",
      "Salary: 45000\n",
      "--------------------\n",
      "Employee ID: 104\n",
      "Name: Michael\n",
      "Age: 35\n",
      "Department: IT\n",
      "Salary: 70000\n",
      "--------------------\n",
      "Employee ID: 105\n",
      "Name: Sophia\n",
      "Age: 28\n",
      "Department: Finance\n",
      "Salary: 55000\n",
      "--------------------\n",
      "Employee ID: 106\n",
      "Name: Ashwini\n",
      "Age: 25\n",
      "Department: HR\n",
      "Salary: 55000.0\n",
      "--------------------\n",
      "Employee Management System\n",
      "--------------------------------\n",
      "1. Add Employee\n",
      "2. View All Employees\n",
      "3. Search for Employee\n",
      "4. Exit\n"
     ]
    },
    {
     "name": "stdin",
     "output_type": "stream",
     "text": [
      "Enter your choice:  3\n",
      "Enter Employee ID to search:  101\n"
     ]
    },
    {
     "name": "stdout",
     "output_type": "stream",
     "text": [
      "Employee ID: 101\n",
      "Name: Satya\n",
      "Age: 27\n",
      "Department: HR\n",
      "Salary: 50000\n",
      "Employee Management System\n",
      "--------------------------------\n",
      "1. Add Employee\n",
      "2. View All Employees\n",
      "3. Search for Employee\n",
      "4. Exit\n"
     ]
    },
    {
     "name": "stdin",
     "output_type": "stream",
     "text": [
      "Enter your choice:  4\n"
     ]
    },
    {
     "name": "stdout",
     "output_type": "stream",
     "text": [
      "Exiting the system. Goodbye!\n"
     ]
    }
   ],
   "source": [
    "def display_menu():\n",
    "    print(\"Employee Management System\")\n",
    "    print(\"--------------------------------\")\n",
    "    print(\"1. Add Employee\")\n",
    "    print(\"2. View All Employees\")\n",
    "    print(\"3. Search for Employee\")\n",
    "    print(\"4. Exit\")\n",
    "\n",
    "def add_employee(employee_data):\n",
    "    while True:\n",
    "        emp_id = int(input(\"Enter Employee ID: \"))\n",
    "        if emp_id in employee_data:\n",
    "            print(\"Employee ID already exists. Please enter a new ID.\")\n",
    "        else:\n",
    "            break\n",
    "    name = input(\"Enter Employee Name: \")\n",
    "    age = int(input(\"Enter Employee Age: \"))\n",
    "    department = input(\"Enter Employee Department: \")\n",
    "    salary = float(input(\"Enter Employee Salary: \"))\n",
    "    employee_data[emp_id] = {\n",
    "        'name': name,\n",
    "        'age': age,\n",
    "        'department': department,\n",
    "        'salary': salary\n",
    "    }\n",
    "    print(f\"Employee {name} with ID {emp_id} added successfully!\")\n",
    "\n",
    "def view_all_employees(employee_data):\n",
    "    if not employee_data:\n",
    "        print(\"No employees available.\")\n",
    "    else:\n",
    "        print(\"Employee Data:\")\n",
    "        print(\"--------------------\")\n",
    "        for emp_id, emp_info in employee_data.items():\n",
    "            print(f\"Employee ID: {emp_id}\")\n",
    "            print(f\"Name: {emp_info['name']}\")\n",
    "            print(f\"Age: {emp_info['age']}\")\n",
    "            print(f\"Department: {emp_info['department']}\")\n",
    "            print(f\"Salary: {emp_info['salary']}\")\n",
    "            print(\"--------------------\")\n",
    "\n",
    "def search_for_employee(employee_data):\n",
    "    emp_id = int(input(\"Enter Employee ID to search: \"))\n",
    "    if emp_id in employee_data:\n",
    "        emp_info = employee_data[emp_id]\n",
    "        print(f\"Employee ID: {emp_id}\")\n",
    "        print(f\"Name: {emp_info['name']}\")\n",
    "        print(f\"Age: {emp_info['age']}\")\n",
    "        print(f\"Department: {emp_info['department']}\")\n",
    "        print(f\"Salary: {emp_info['salary']}\")\n",
    "    else:\n",
    "        print(\"Employee not found.\")\n",
    "\n",
    "def main():\n",
    "    employee_data = {\n",
    "        101: {'name': 'Satya', 'age': 27, 'department': 'HR', 'salary': 50000},\n",
    "        102: {'name': 'John', 'age': 30, 'department': 'Marketing', 'salary': 60000},\n",
    "        103: {'name': 'Emma', 'age': 25, 'department': 'Sales', 'salary': 45000},\n",
    "        104: {'name': 'Michael', 'age': 35, 'department': 'IT', 'salary': 70000},\n",
    "        105: {'name': 'Sophia', 'age': 28, 'department': 'Finance', 'salary': 55000}\n",
    "    }\n",
    "\n",
    "    while True:\n",
    "        display_menu()\n",
    "        choice = input(\"Enter your choice: \")\n",
    "        if choice == \"1\":\n",
    "            add_employee(employee_data)\n",
    "        elif choice == \"2\":\n",
    "            view_all_employees(employee_data)\n",
    "        elif choice == \"3\":\n",
    "            search_for_employee(employee_data)\n",
    "        elif choice == \"4\":\n",
    "            print(\"Exiting the system. Goodbye!\")\n",
    "            break\n",
    "        else:\n",
    "            print(\"Invalid choice. Please try again.\")\n",
    "\n",
    "if __name__ == \"__main__\":\n",
    "    main()"
   ]
  },
  {
   "cell_type": "code",
   "execution_count": 5,
   "id": "18753df9-23ea-4baa-8be1-7a588c42a825",
   "metadata": {},
   "outputs": [
    {
     "name": "stdout",
     "output_type": "stream",
     "text": [
      "Employee Management System\n",
      "--------------------------------\n",
      "1. Add Employee\n",
      "2. View All Employees\n",
      "3. Search for Employee\n",
      "4. Exit\n"
     ]
    },
    {
     "name": "stdin",
     "output_type": "stream",
     "text": [
      "Enter your choice:  1\n",
      "Enter Employee ID:  101\n",
      "Enter Employee Name:  Satya\n",
      "Enter Employee Age:  27\n",
      "Enter Employee Department:  HR\n",
      "Enter Employee Salary:  50000\n"
     ]
    },
    {
     "name": "stdout",
     "output_type": "stream",
     "text": [
      "Employee Satya with ID 101 added successfully!\n",
      "Employee Management System\n",
      "--------------------------------\n",
      "1. Add Employee\n",
      "2. View All Employees\n",
      "3. Search for Employee\n",
      "4. Exit\n"
     ]
    },
    {
     "name": "stdin",
     "output_type": "stream",
     "text": [
      "Enter your choice:  2\n"
     ]
    },
    {
     "name": "stdout",
     "output_type": "stream",
     "text": [
      "Employee Data:\n",
      "--------------------\n",
      "Employee ID: 101\n",
      "Name: Satya\n",
      "Age: 27\n",
      "Department: HR\n",
      "Salary: 50000.0\n",
      "--------------------\n",
      "Employee Management System\n",
      "--------------------------------\n",
      "1. Add Employee\n",
      "2. View All Employees\n",
      "3. Search for Employee\n",
      "4. Exit\n"
     ]
    },
    {
     "name": "stdin",
     "output_type": "stream",
     "text": [
      "Enter your choice:  3\n",
      "Enter Employee ID to search:  101\n"
     ]
    },
    {
     "name": "stdout",
     "output_type": "stream",
     "text": [
      "Employee ID: 101\n",
      "Name: Satya\n",
      "Age: 27\n",
      "Department: HR\n",
      "Salary: 50000.0\n",
      "Employee Management System\n",
      "--------------------------------\n",
      "1. Add Employee\n",
      "2. View All Employees\n",
      "3. Search for Employee\n",
      "4. Exit\n"
     ]
    },
    {
     "name": "stdin",
     "output_type": "stream",
     "text": [
      "Enter your choice:  4\n"
     ]
    },
    {
     "name": "stdout",
     "output_type": "stream",
     "text": [
      "Exiting the system. Goodbye!\n"
     ]
    }
   ],
   "source": [
    "def display_menu():\n",
    "    print(\"Employee Management System\")\n",
    "    print(\"--------------------------------\")\n",
    "    print(\"1. Add Employee\")\n",
    "    print(\"2. View All Employees\")\n",
    "    print(\"3. Search for Employee\")\n",
    "    print(\"4. Exit\")\n",
    "\n",
    "def add_employee(employee_data):\n",
    "    while True:\n",
    "        emp_id = int(input(\"Enter Employee ID: \"))\n",
    "        if emp_id in employee_data:\n",
    "            print(\"Employee ID already exists. Please enter a new ID.\")\n",
    "        else:\n",
    "            break\n",
    "    name = input(\"Enter Employee Name: \")\n",
    "    age = int(input(\"Enter Employee Age: \"))\n",
    "    department = input(\"Enter Employee Department: \")\n",
    "    salary = float(input(\"Enter Employee Salary: \"))\n",
    "    employee_data[emp_id] = {\n",
    "        'name': name,\n",
    "        'age': age,\n",
    "        'department': department,\n",
    "        'salary': salary\n",
    "    }\n",
    "    print(f\"Employee {name} with ID {emp_id} added successfully!\")\n",
    "\n",
    "def view_all_employees(employee_data):\n",
    "    if not employee_data:\n",
    "        print(\"No employees available.\")\n",
    "    else:\n",
    "        print(\"Employee Data:\")\n",
    "        print(\"--------------------\")\n",
    "        for emp_id, emp_info in employee_data.items():\n",
    "            print(f\"Employee ID: {emp_id}\")\n",
    "            print(f\"Name: {emp_info['name']}\")\n",
    "            print(f\"Age: {emp_info['age']}\")\n",
    "            print(f\"Department: {emp_info['department']}\")\n",
    "            print(f\"Salary: {emp_info['salary']}\")\n",
    "            print(\"--------------------\")\n",
    "\n",
    "def search_for_employee(employee_data):\n",
    "    emp_id = int(input(\"Enter Employee ID to search: \"))\n",
    "    if emp_id in employee_data:\n",
    "        emp_info = employee_data[emp_id]\n",
    "        print(f\"Employee ID: {emp_id}\")\n",
    "        print(f\"Name: {emp_info['name']}\")\n",
    "        print(f\"Age: {emp_info['age']}\")\n",
    "        print(f\"Department: {emp_info['department']}\")\n",
    "        print(f\"Salary: {emp_info['salary']}\")\n",
    "    else:\n",
    "        print(\"Employee not found.\")\n",
    "\n",
    "def main():\n",
    "    employee_data = {}\n",
    "\n",
    "    while True:\n",
    "        display_menu()\n",
    "        choice = input(\"Enter your choice: \")\n",
    "        if choice == \"1\":\n",
    "            add_employee(employee_data)\n",
    "        elif choice == \"2\":\n",
    "            view_all_employees(employee_data)\n",
    "        elif choice == \"3\":\n",
    "            search_for_employee(employee_data)\n",
    "        elif choice == \"4\":\n",
    "            print(\"Exiting the system. Goodbye!\")\n",
    "            break\n",
    "        else:\n",
    "            print(\"Invalid choice. Please try again.\")\n",
    "\n",
    "if __name__ == \"__main__\":\n",
    "    main()\n",
    "\n"
   ]
  },
  {
   "cell_type": "code",
   "execution_count": 6,
   "id": "4f95e335-5c1f-4b79-889c-15c58577b293",
   "metadata": {},
   "outputs": [
    {
     "name": "stdout",
     "output_type": "stream",
     "text": [
      "Employee Management System\n",
      "--------------------------------\n",
      "1. Add Employee\n",
      "2. View All Employees\n",
      "3. Search for Employee\n",
      "4. Exit\n"
     ]
    },
    {
     "name": "stdin",
     "output_type": "stream",
     "text": [
      "Enter your choice:  11\n"
     ]
    },
    {
     "name": "stdout",
     "output_type": "stream",
     "text": [
      "Invalid choice. Please try again.\n",
      "Employee Management System\n",
      "--------------------------------\n",
      "1. Add Employee\n",
      "2. View All Employees\n",
      "3. Search for Employee\n",
      "4. Exit\n"
     ]
    },
    {
     "name": "stdin",
     "output_type": "stream",
     "text": [
      "Enter your choice:  1\n",
      "Enter Employee ID:  101\n",
      "Enter Employee Name:  Satya\n",
      "Enter Employee Age:  27\n",
      "Enter Employee Department:  HR\n",
      "Enter Employee Salary:  50000\n"
     ]
    },
    {
     "name": "stdout",
     "output_type": "stream",
     "text": [
      "Employee Satya with ID 101 added successfully!\n",
      "Employee Management System\n",
      "--------------------------------\n",
      "1. Add Employee\n",
      "2. View All Employees\n",
      "3. Search for Employee\n",
      "4. Exit\n"
     ]
    },
    {
     "name": "stdin",
     "output_type": "stream",
     "text": [
      "Enter your choice:  2\n"
     ]
    },
    {
     "name": "stdout",
     "output_type": "stream",
     "text": [
      "Employee Data:\n",
      "--------------------\n",
      "Employee ID: 101\n",
      "Name: Satya\n",
      "Age: 27\n",
      "Department: HR\n",
      "Salary: 50000.0\n",
      "--------------------\n",
      "Employee Management System\n",
      "--------------------------------\n",
      "1. Add Employee\n",
      "2. View All Employees\n",
      "3. Search for Employee\n",
      "4. Exit\n"
     ]
    },
    {
     "name": "stdin",
     "output_type": "stream",
     "text": [
      "Enter your choice:  3\n",
      "Enter Employee ID to search:  101\n"
     ]
    },
    {
     "name": "stdout",
     "output_type": "stream",
     "text": [
      "Employee ID: 101\n",
      "Name: Satya\n",
      "Age: 27\n",
      "Department: HR\n",
      "Salary: 50000.0\n",
      "Employee Management System\n",
      "--------------------------------\n",
      "1. Add Employee\n",
      "2. View All Employees\n",
      "3. Search for Employee\n",
      "4. Exit\n"
     ]
    },
    {
     "name": "stdin",
     "output_type": "stream",
     "text": [
      "Enter your choice:  4\n"
     ]
    },
    {
     "name": "stdout",
     "output_type": "stream",
     "text": [
      "Exiting the system. Goodbye!\n"
     ]
    }
   ],
   "source": [
    "def display_menu():\n",
    "    print(\"Employee Management System\")\n",
    "    print(\"--------------------------------\")\n",
    "    print(\"1. Add Employee\")\n",
    "    print(\"2. View All Employees\")\n",
    "    print(\"3. Search for Employee\")\n",
    "    print(\"4. Exit\")\n",
    "\n",
    "def add_employee(employee_data):\n",
    "    while True:\n",
    "        emp_id = int(input(\"Enter Employee ID: \"))\n",
    "        if emp_id in employee_data:\n",
    "            print(\"Employee ID already exists. Please enter a new ID.\")\n",
    "        else:\n",
    "            break\n",
    "    name = input(\"Enter Employee Name: \")\n",
    "    age = int(input(\"Enter Employee Age: \"))\n",
    "    department = input(\"Enter Employee Department: \")\n",
    "    salary = float(input(\"Enter Employee Salary: \"))\n",
    "    employee_data[emp_id] = {\n",
    "        'name': name,\n",
    "        'age': age,\n",
    "        'department': department,\n",
    "        'salary': salary\n",
    "    }\n",
    "    print(f\"Employee {name} with ID {emp_id} added successfully!\")\n",
    "\n",
    "def view_all_employees(employee_data):\n",
    "    if not employee_data:\n",
    "        print(\"No employees available.\")\n",
    "    else:\n",
    "        print(\"Employee Data:\")\n",
    "        print(\"--------------------\")\n",
    "        for emp_id, emp_info in employee_data.items():\n",
    "            print(f\"Employee ID: {emp_id}\")\n",
    "            print(f\"Name: {emp_info['name']}\")\n",
    "            print(f\"Age: {emp_info['age']}\")\n",
    "            print(f\"Department: {emp_info['department']}\")\n",
    "            print(f\"Salary: {emp_info['salary']}\")\n",
    "            print(\"--------------------\")\n",
    "\n",
    "def search_for_employee(employee_data):\n",
    "    emp_id = int(input(\"Enter Employee ID to search: \"))\n",
    "    if emp_id in employee_data:\n",
    "        emp_info = employee_data[emp_id]\n",
    "        print(f\"Employee ID: {emp_id}\")\n",
    "        print(f\"Name: {emp_info['name']}\")\n",
    "        print(f\"Age: {emp_info['age']}\")\n",
    "        print(f\"Department: {emp_info['department']}\")\n",
    "        print(f\"Salary: {emp_info['salary']}\")\n",
    "    else:\n",
    "        print(\"Employee not found.\")\n",
    "\n",
    "def main():\n",
    "    employee_data = {}\n",
    "\n",
    "    while True:\n",
    "        display_menu()\n",
    "        choice = input(\"Enter your choice: \")\n",
    "        if choice == \"1\":\n",
    "            add_employee(employee_data)\n",
    "        elif choice == \"2\":\n",
    "            view_all_employees(employee_data)\n",
    "        elif choice == \"3\":\n",
    "            search_for_employee(employee_data)\n",
    "        elif choice == \"4\":\n",
    "            print(\"Exiting the system. Goodbye!\")\n",
    "            break\n",
    "        else:\n",
    "            print(\"Invalid choice. Please try again.\")\n",
    "\n",
    "if __name__ == \"__main__\":\n",
    "    main()\n",
    "\n"
   ]
  },
  {
   "cell_type": "code",
   "execution_count": 7,
   "id": "598a12c3-86e7-4113-bf33-f25aa4e14e9e",
   "metadata": {},
   "outputs": [
    {
     "name": "stdout",
     "output_type": "stream",
     "text": [
      "Employee Management System\n",
      "--------------------------------\n",
      "1. Add Employee\n",
      "2. View All Employees\n",
      "3. Search for Employee\n",
      "4. Exit\n"
     ]
    },
    {
     "name": "stdin",
     "output_type": "stream",
     "text": [
      "Enter your choice:  1\n",
      "Enter Employee ID:  101\n",
      "Enter Employee Name:  Satya\n",
      "Enter Employee Age:  27\n",
      "Enter Employee Department:  HR\n",
      "Enter Employee Salary:  50000\n"
     ]
    },
    {
     "name": "stdout",
     "output_type": "stream",
     "text": [
      "Employee Satya with ID 101 added successfully!\n",
      "Employee Management System\n",
      "--------------------------------\n",
      "1. Add Employee\n",
      "2. View All Employees\n",
      "3. Search for Employee\n",
      "4. Exit\n"
     ]
    },
    {
     "name": "stdin",
     "output_type": "stream",
     "text": [
      "Enter your choice:  2\n"
     ]
    },
    {
     "name": "stdout",
     "output_type": "stream",
     "text": [
      "Employee Data:\n",
      "--------------------\n",
      "|  ID   |         Name         |  Age  |   Department    |   Salary   |\n",
      "--------------------\n",
      "|  101  |        Satya         |  27   |       HR        |  50000.0   |\n",
      "--------------------\n",
      "Employee Management System\n",
      "--------------------------------\n",
      "1. Add Employee\n",
      "2. View All Employees\n",
      "3. Search for Employee\n",
      "4. Exit\n"
     ]
    },
    {
     "name": "stdin",
     "output_type": "stream",
     "text": [
      "Enter your choice:  3\n",
      "Enter Employee ID to search:  101\n"
     ]
    },
    {
     "name": "stdout",
     "output_type": "stream",
     "text": [
      "Employee ID: 101\n",
      "Name: Satya\n",
      "Age: 27\n",
      "Department: HR\n",
      "Salary: 50000.0\n",
      "Employee Management System\n",
      "--------------------------------\n",
      "1. Add Employee\n",
      "2. View All Employees\n",
      "3. Search for Employee\n",
      "4. Exit\n"
     ]
    },
    {
     "name": "stdin",
     "output_type": "stream",
     "text": [
      "Enter your choice:  4\n"
     ]
    },
    {
     "name": "stdout",
     "output_type": "stream",
     "text": [
      "Exiting the system. Goodbye!\n"
     ]
    }
   ],
   "source": [
    "def display_menu():\n",
    "    print(\"Employee Management System\")\n",
    "    print(\"--------------------------------\")\n",
    "    print(\"1. Add Employee\")\n",
    "    print(\"2. View All Employees\")\n",
    "    print(\"3. Search for Employee\")\n",
    "    print(\"4. Exit\")\n",
    "\n",
    "def add_employee(employee_data):\n",
    "    while True:\n",
    "        emp_id = int(input(\"Enter Employee ID: \"))\n",
    "        if emp_id in employee_data:\n",
    "            print(\"Employee ID already exists. Please enter a new ID.\")\n",
    "        else:\n",
    "            break\n",
    "    name = input(\"Enter Employee Name: \")\n",
    "    age = int(input(\"Enter Employee Age: \"))\n",
    "    department = input(\"Enter Employee Department: \")\n",
    "    salary = float(input(\"Enter Employee Salary: \"))\n",
    "    employee_data[emp_id] = {\n",
    "        'name': name,\n",
    "        'age': age,\n",
    "        'department': department,\n",
    "        'salary': salary\n",
    "    }\n",
    "    print(f\"Employee {name} with ID {emp_id} added successfully!\")\n",
    "\n",
    "def view_all_employees(employee_data):\n",
    "    if not employee_data:\n",
    "        print(\"No employees available.\")\n",
    "    else:\n",
    "        print(\"Employee Data:\")\n",
    "        print(\"--------------------\")\n",
    "        print(f\"| {'ID':^5} | {'Name':^20} | {'Age':^5} | {'Department':^15} | {'Salary':^10} |\")\n",
    "        print(\"--------------------\")\n",
    "        for emp_id, emp_info in employee_data.items():\n",
    "            print(f\"| {emp_id:^5} | {emp_info['name']:^20} | {emp_info['age']:^5} | {emp_info['department']:^15} | {emp_info['salary']:^10} |\")\n",
    "        print(\"--------------------\")\n",
    "\n",
    "def search_for_employee(employee_data):\n",
    "    emp_id = int(input(\"Enter Employee ID to search: \"))\n",
    "    if emp_id in employee_data:\n",
    "        emp_info = employee_data[emp_id]\n",
    "        print(f\"Employee ID: {emp_id}\")\n",
    "        print(f\"Name: {emp_info['name']}\")\n",
    "        print(f\"Age: {emp_info['age']}\")\n",
    "        print(f\"Department: {emp_info['department']}\")\n",
    "        print(f\"Salary: {emp_info['salary']}\")\n",
    "    else:\n",
    "        print(\"Employee not found.\")\n",
    "\n",
    "def main():\n",
    "    employee_data = {}\n",
    "\n",
    "    while True:\n",
    "        display_menu()\n",
    "        choice = input(\"Enter your choice: \")\n",
    "        if choice == \"1\":\n",
    "            add_employee(employee_data)\n",
    "        elif choice == \"2\":\n",
    "            view_all_employees(employee_data)\n",
    "        elif choice == \"3\":\n",
    "            search_for_employee(employee_data)\n",
    "        elif choice == \"4\":\n",
    "            print(\"Exiting the system. Goodbye!\")\n",
    "            break\n",
    "        else:\n",
    "            print(\"Invalid choice. Please try again.\")\n",
    "\n",
    "if __name__ == \"__main__\":\n",
    "    main()\n",
    "\n"
   ]
  },
  {
   "cell_type": "code",
   "execution_count": 8,
   "id": "ee9f3bbc-a912-4959-b8fe-f02481488db0",
   "metadata": {},
   "outputs": [
    {
     "name": "stdout",
     "output_type": "stream",
     "text": [
      "Employee Management System\n",
      "--------------------------------\n",
      "1. Add Employee\n",
      "2. View All Employees\n",
      "3. Search for Employee\n",
      "4. Exit\n"
     ]
    },
    {
     "name": "stdin",
     "output_type": "stream",
     "text": [
      "Enter your choice:  1\n",
      "Enter Employee ID:  101\n"
     ]
    },
    {
     "name": "stdout",
     "output_type": "stream",
     "text": [
      "Employee ID already exists. Please enter a new ID.\n"
     ]
    },
    {
     "name": "stdin",
     "output_type": "stream",
     "text": [
      "Enter Employee ID:  107\n",
      "Enter Employee Name:  Vinayak\n",
      "Enter Employee Age:  27\n",
      "Enter Employee Department:  Manager\n",
      "Enter Employee Salary:  70000\n"
     ]
    },
    {
     "name": "stdout",
     "output_type": "stream",
     "text": [
      "Employee Vinayak with ID 107 added successfully!\n",
      "Employee Management System\n",
      "--------------------------------\n",
      "1. Add Employee\n",
      "2. View All Employees\n",
      "3. Search for Employee\n",
      "4. Exit\n"
     ]
    },
    {
     "name": "stdin",
     "output_type": "stream",
     "text": [
      "Enter your choice:  2\n"
     ]
    },
    {
     "name": "stdout",
     "output_type": "stream",
     "text": [
      "Employee Data:\n",
      "--------------------\n",
      "|  ID   |         Name         |  Age  |   Department    |   Salary   |\n",
      "--------------------\n",
      "|  101  |        Satya         |  27   |       HR        |   50000    |\n",
      "|  102  |         John         |  30   |    Marketing    |   60000    |\n",
      "|  103  |         Emma         |  25   |      Sales      |   45000    |\n",
      "|  104  |       Michael        |  35   |       IT        |   70000    |\n",
      "|  105  |        Sophia        |  28   |     Finance     |   55000    |\n",
      "|  107  |       Vinayak        |  27   |     Manager     |  70000.0   |\n",
      "--------------------\n",
      "Employee Management System\n",
      "--------------------------------\n",
      "1. Add Employee\n",
      "2. View All Employees\n",
      "3. Search for Employee\n",
      "4. Exit\n"
     ]
    },
    {
     "name": "stdin",
     "output_type": "stream",
     "text": [
      "Enter your choice:  3\n",
      "Enter Employee ID to search:  101\n"
     ]
    },
    {
     "name": "stdout",
     "output_type": "stream",
     "text": [
      "Employee ID: 101\n",
      "Name: Satya\n",
      "Age: 27\n",
      "Department: HR\n",
      "Salary: 50000\n",
      "Employee Management System\n",
      "--------------------------------\n",
      "1. Add Employee\n",
      "2. View All Employees\n",
      "3. Search for Employee\n",
      "4. Exit\n"
     ]
    },
    {
     "name": "stdin",
     "output_type": "stream",
     "text": [
      "Enter your choice:  4\n"
     ]
    },
    {
     "name": "stdout",
     "output_type": "stream",
     "text": [
      "Exiting the system. Goodbye!\n"
     ]
    }
   ],
   "source": [
    "def display_menu():\n",
    "    print(\"Employee Management System\")\n",
    "    print(\"--------------------------------\")\n",
    "    print(\"1. Add Employee\")\n",
    "    print(\"2. View All Employees\")\n",
    "    print(\"3. Search for Employee\")\n",
    "    print(\"4. Exit\")\n",
    "\n",
    "def add_employee(employee_data):\n",
    "    while True:\n",
    "        emp_id = int(input(\"Enter Employee ID: \"))\n",
    "        if emp_id in employee_data:\n",
    "            print(\"Employee ID already exists. Please enter a new ID.\")\n",
    "        else:\n",
    "            break\n",
    "    name = input(\"Enter Employee Name: \")\n",
    "    age = int(input(\"Enter Employee Age: \"))\n",
    "    department = input(\"Enter Employee Department: \")\n",
    "    salary = float(input(\"Enter Employee Salary: \"))\n",
    "    employee_data[emp_id] = {\n",
    "        'name': name,\n",
    "        'age': age,\n",
    "        'department': department,\n",
    "        'salary': salary\n",
    "    }\n",
    "    print(f\"Employee {name} with ID {emp_id} added successfully!\")\n",
    "\n",
    "def view_all_employees(employee_data):\n",
    "    if not employee_data:\n",
    "        print(\"No employees available.\")\n",
    "    else:\n",
    "        print(\"Employee Data:\")\n",
    "        print(\"--------------------\")\n",
    "        print(f\"| {'ID':^5} | {'Name':^20} | {'Age':^5} | {'Department':^15} | {'Salary':^10} |\")\n",
    "        print(\"--------------------\")\n",
    "        for emp_id, emp_info in employee_data.items():\n",
    "            print(f\"| {emp_id:^5} | {emp_info['name']:^20} | {emp_info['age']:^5} | {emp_info['department']:^15} | {emp_info['salary']:^10} |\")\n",
    "        print(\"--------------------\")\n",
    "\n",
    "def search_for_employee(employee_data):\n",
    "    emp_id = int(input(\"Enter Employee ID to search: \"))\n",
    "    if emp_id in employee_data:\n",
    "        emp_info = employee_data[emp_id]\n",
    "        print(f\"Employee ID: {emp_id}\")\n",
    "        print(f\"Name: {emp_info['name']}\")\n",
    "        print(f\"Age: {emp_info['age']}\")\n",
    "        print(f\"Department: {emp_info['department']}\")\n",
    "        print(f\"Salary: {emp_info['salary']}\")\n",
    "    else:\n",
    "        print(\"Employee not found.\")\n",
    "\n",
    "def main():\n",
    "    employee_data = {\n",
    "        101: {'name': 'Satya', 'age': 27, 'department': 'HR', 'salary': 50000},\n",
    "        102: {'name': 'John', 'age': 30, 'department': 'Marketing', 'salary': 60000},\n",
    "        103: {'name': 'Emma', 'age': 25, 'department': 'Sales', 'salary': 45000},\n",
    "        104: {'name': 'Michael', 'age': 35, 'department': 'IT', 'salary': 70000},\n",
    "        105: {'name': 'Sophia', 'age': 28, 'department': 'Finance', 'salary': 55000}\n",
    "    }\n",
    "\n",
    "    while True:\n",
    "        display_menu()\n",
    "        choice = input(\"Enter your choice: \")\n",
    "        if choice == \"1\":\n",
    "            add_employee(employee_data)\n",
    "        elif choice == \"2\":\n",
    "            view_all_employees(employee_data)\n",
    "        elif choice == \"3\":\n",
    "            search_for_employee(employee_data)\n",
    "        elif choice == \"4\":\n",
    "            print(\"Exiting the system. Goodbye!\")\n",
    "            break\n",
    "        else:\n",
    "            print(\"Invalid choice. Please try again.\")\n",
    "\n",
    "if __name__ == \"__main__\":\n",
    "    main()\n",
    "\n"
   ]
  },
  {
   "cell_type": "code",
   "execution_count": 9,
   "id": "8d98836d-7985-4fac-8980-97e971058650",
   "metadata": {},
   "outputs": [
    {
     "name": "stdout",
     "output_type": "stream",
     "text": [
      "Employee Management System\n",
      "--------------------------------\n",
      "1. Add Employee\n",
      "2. View All Employees\n",
      "3. Search for Employee\n",
      "4. Exit\n"
     ]
    },
    {
     "name": "stdin",
     "output_type": "stream",
     "text": [
      "Enter your choice:  1\n",
      "Enter Employee ID:  101\n"
     ]
    },
    {
     "name": "stdout",
     "output_type": "stream",
     "text": [
      "Employee ID already exists. Please enter a new ID.\n"
     ]
    },
    {
     "name": "stdin",
     "output_type": "stream",
     "text": [
      "Enter Employee ID:  108\n",
      "Enter Employee Name:  Mallikarjun\n",
      "Enter Employee Age:  30\n",
      "Enter Employee Department:  Manager\n",
      "Enter Employee Salary:  75000\n"
     ]
    },
    {
     "name": "stdout",
     "output_type": "stream",
     "text": [
      "Employee Mallikarjun with ID 108 added successfully!\n",
      "Employee Management System\n",
      "--------------------------------\n",
      "1. Add Employee\n",
      "2. View All Employees\n",
      "3. Search for Employee\n",
      "4. Exit\n"
     ]
    },
    {
     "name": "stdin",
     "output_type": "stream",
     "text": [
      "Enter your choice:  2\n"
     ]
    },
    {
     "name": "stdout",
     "output_type": "stream",
     "text": [
      "Employee Data:\n",
      "--------------------\n",
      "|  ID   |         Name         |  Age  |   Department    |   Salary   |\n",
      "--------------------\n",
      "|  101  |        Satya         |  27   |       HR        |   50000    |\n",
      "|  102  |         John         |  30   |    Marketing    |   60000    |\n",
      "|  103  |         Emma         |  25   |      Sales      |   45000    |\n",
      "|  104  |       Michael        |  35   |       IT        |   70000    |\n",
      "|  105  |        Sophia        |  28   |     Finance     |   55000    |\n",
      "|  108  |     Mallikarjun      |  30   |     Manager     |  75000.0   |\n",
      "--------------------\n",
      "Employee Management System\n",
      "--------------------------------\n",
      "1. Add Employee\n",
      "2. View All Employees\n",
      "3. Search for Employee\n",
      "4. Exit\n"
     ]
    },
    {
     "name": "stdin",
     "output_type": "stream",
     "text": [
      "Enter your choice:  3\n",
      "Enter Employee ID to search:  101\n"
     ]
    },
    {
     "name": "stdout",
     "output_type": "stream",
     "text": [
      "Employee ID: 101\n",
      "Name: Satya\n",
      "Age: 27\n",
      "Department: HR\n",
      "Salary: 50000\n",
      "Employee Management System\n",
      "--------------------------------\n",
      "1. Add Employee\n",
      "2. View All Employees\n",
      "3. Search for Employee\n",
      "4. Exit\n"
     ]
    },
    {
     "name": "stdin",
     "output_type": "stream",
     "text": [
      "Enter your choice:  4\n"
     ]
    },
    {
     "name": "stdout",
     "output_type": "stream",
     "text": [
      "Exiting the system. Goodbye!\n"
     ]
    }
   ],
   "source": [
    "def display_menu():\n",
    "    print(\"Employee Management System\")\n",
    "    print(\"--------------------------------\")\n",
    "    print(\"1. Add Employee\")\n",
    "    print(\"2. View All Employees\")\n",
    "    print(\"3. Search for Employee\")\n",
    "    print(\"4. Exit\")\n",
    "\n",
    "def add_employee(employee_data):\n",
    "    while True:\n",
    "        emp_id = int(input(\"Enter Employee ID: \"))\n",
    "        if emp_id in employee_data:\n",
    "            print(\"Employee ID already exists. Please enter a new ID.\")\n",
    "        else:\n",
    "            break\n",
    "    name = input(\"Enter Employee Name: \")\n",
    "    age = int(input(\"Enter Employee Age: \"))\n",
    "    department = input(\"Enter Employee Department: \")\n",
    "    salary = float(input(\"Enter Employee Salary: \"))\n",
    "    employee_data[emp_id] = {\n",
    "        'name': name,\n",
    "        'age': age,\n",
    "        'department': department,\n",
    "        'salary': salary\n",
    "    }\n",
    "    print(f\"Employee {name} with ID {emp_id} added successfully!\")\n",
    "\n",
    "def view_all_employees(employee_data):\n",
    "    if not employee_data:\n",
    "        print(\"No employees available.\")\n",
    "    else:\n",
    "        print(\"Employee Data:\")\n",
    "        print(\"--------------------\")\n",
    "        print(f\"| {'ID':^5} | {'Name':^20} | {'Age':^5} | {'Department':^15} | {'Salary':^10} |\")\n",
    "        print(\"--------------------\")\n",
    "        for emp_id, emp_info in employee_data.items():\n",
    "            print(f\"| {emp_id:^5} | {emp_info['name']:^20} | {emp_info['age']:^5} | {emp_info['department']:^15} | {emp_info['salary']:^10} |\")\n",
    "        print(\"--------------------\")\n",
    "\n",
    "def search_for_employee(employee_data):\n",
    "    emp_id = int(input(\"Enter Employee ID to search: \"))\n",
    "    if emp_id in employee_data:\n",
    "        emp_info = employee_data[emp_id]\n",
    "        print(f\"Employee ID: {emp_id}\")\n",
    "        print(f\"Name: {emp_info['name']}\")\n",
    "        print(f\"Age: {emp_info['age']}\")\n",
    "        print(f\"Department: {emp_info['department']}\")\n",
    "        print(f\"Salary: {emp_info['salary']}\")\n",
    "    else:\n",
    "        print(\"Employee not found.\")\n",
    "\n",
    "def main():\n",
    "    employee_data = {\n",
    "        101: {'name': 'Satya', 'age': 27, 'department': 'HR', 'salary': 50000},\n",
    "        102: {'name': 'John', 'age': 30, 'department': 'Marketing', 'salary': 60000},\n",
    "        103: {'name': 'Emma', 'age': 25, 'department': 'Sales', 'salary': 45000},\n",
    "        104: {'name': 'Michael', 'age': 35, 'department': 'IT', 'salary': 70000},\n",
    "        105: {'name': 'Sophia', 'age': 28, 'department': 'Finance', 'salary': 55000}\n",
    "    }\n",
    "\n",
    "    while True:\n",
    "        display_menu()\n",
    "        choice = input(\"Enter your choice: \")\n",
    "        if choice == \"1\":\n",
    "            add_employee(employee_data)\n",
    "        elif choice == \"2\":\n",
    "            view_all_employees(employee_data)\n",
    "        elif choice == \"3\":\n",
    "            search_for_employee(employee_data)\n",
    "        elif choice == \"4\":\n",
    "            print(\"Exiting the system. Goodbye!\")\n",
    "            break\n",
    "        else:\n",
    "            print(\"Invalid choice. Please try again.\")\n",
    "\n",
    "if __name__ == \"__main__\":\n",
    "    main()\n",
    "\n"
   ]
  },
  {
   "cell_type": "code",
   "execution_count": 10,
   "id": "711ee086-9bd0-4e57-a833-6ae6fa4abdf5",
   "metadata": {},
   "outputs": [
    {
     "name": "stdout",
     "output_type": "stream",
     "text": [
      "Employee Management System\n",
      "--------------------------------\n",
      "1. Add Employee\n",
      "2. View All Employees\n",
      "3. Search for Employee\n",
      "4. Exit\n"
     ]
    },
    {
     "name": "stdin",
     "output_type": "stream",
     "text": [
      "Enter your choice:  1\n",
      "Enter Employee ID:  101\n",
      "Enter Employee Name:  Satya\n",
      "Enter Employee Age:  27\n",
      "Enter Employee Department:  HR\n",
      "Enter Employee Salary:  50000\n"
     ]
    },
    {
     "name": "stdout",
     "output_type": "stream",
     "text": [
      "Employee Satya with ID 101 added successfully!\n",
      "Employee Management System\n",
      "--------------------------------\n",
      "1. Add Employee\n",
      "2. View All Employees\n",
      "3. Search for Employee\n",
      "4. Exit\n"
     ]
    },
    {
     "name": "stdin",
     "output_type": "stream",
     "text": [
      "Enter your choice:  2\n"
     ]
    },
    {
     "name": "stdout",
     "output_type": "stream",
     "text": [
      "Employee Data:\n",
      "--------------------\n",
      "|  ID   |         Name         |  Age  |   Department    |   Salary   |\n",
      "--------------------\n",
      "|  101  |        Satya         |  27   |       HR        |   50000    |\n",
      "|  102  |         John         |  30   |    Marketing    |   60000    |\n",
      "|  103  |         Emma         |  25   |      Sales      |   45000    |\n",
      "|  104  |       Michael        |  35   |       IT        |   70000    |\n",
      "|  105  |        Sophia        |  28   |     Finance     |   55000    |\n",
      "--------------------\n",
      "Employee Management System\n",
      "--------------------------------\n",
      "1. Add Employee\n",
      "2. View All Employees\n",
      "3. Search for Employee\n",
      "4. Exit\n"
     ]
    },
    {
     "name": "stdin",
     "output_type": "stream",
     "text": [
      "Enter your choice:  3\n",
      "Enter Employee ID to search:  101\n"
     ]
    },
    {
     "name": "stdout",
     "output_type": "stream",
     "text": [
      "Employee ID: 101\n",
      "Name: Satya\n",
      "Age: 27\n",
      "Department: HR\n",
      "Salary: 50000\n",
      "Employee Management System\n",
      "--------------------------------\n",
      "1. Add Employee\n",
      "2. View All Employees\n",
      "3. Search for Employee\n",
      "4. Exit\n"
     ]
    },
    {
     "name": "stdin",
     "output_type": "stream",
     "text": [
      "Enter your choice:  4\n"
     ]
    },
    {
     "name": "stdout",
     "output_type": "stream",
     "text": [
      "Exiting the system. Goodbye!\n"
     ]
    }
   ],
   "source": [
    "def main_menu():\n",
    "    while True:\n",
    "        print(\"Employee Management System\")\n",
    "        print(\"--------------------------------\")\n",
    "        print(\"1. Add Employee\")\n",
    "        print(\"2. View All Employees\")\n",
    "        print(\"3. Search for Employee\")\n",
    "        print(\"4. Exit\")\n",
    "        choice = input(\"Enter your choice: \")\n",
    "        if choice == \"1\":\n",
    "            add_employee()\n",
    "        elif choice == \"2\":\n",
    "            view_employees()\n",
    "        elif choice == \"3\":\n",
    "            search_employee()\n",
    "        elif choice == \"4\":\n",
    "            print(\"Exiting the system. Goodbye!\")\n",
    "            break\n",
    "        else:\n",
    "            print(\"Invalid choice. Please try again.\")\n",
    "\n",
    "def add_employee():\n",
    "    employee_data = {}\n",
    "    while True:\n",
    "        emp_id = int(input(\"Enter Employee ID: \"))\n",
    "        if emp_id in employee_data:\n",
    "            print(\"Employee ID already exists. Please enter a new ID.\")\n",
    "        else:\n",
    "            break\n",
    "    name = input(\"Enter Employee Name: \")\n",
    "    age = int(input(\"Enter Employee Age: \"))\n",
    "    department = input(\"Enter Employee Department: \")\n",
    "    salary = float(input(\"Enter Employee Salary: \"))\n",
    "    employee_data[emp_id] = {\n",
    "        'name': name,\n",
    "        'age': age,\n",
    "        'department': department,\n",
    "        'salary': salary\n",
    "    }\n",
    "    print(f\"Employee {name} with ID {emp_id} added successfully!\")\n",
    "    return employee_data\n",
    "\n",
    "def view_employees():\n",
    "    employee_data = {\n",
    "        101: {'name': 'Satya', 'age': 27, 'department': 'HR', 'salary': 50000},\n",
    "        102: {'name': 'John', 'age': 30, 'department': 'Marketing', 'salary': 60000},\n",
    "        103: {'name': 'Emma', 'age': 25, 'department': 'Sales', 'salary': 45000},\n",
    "        104: {'name': 'Michael', 'age': 35, 'department': 'IT', 'salary': 70000},\n",
    "        105: {'name': 'Sophia', 'age': 28, 'department': 'Finance', 'salary': 55000}\n",
    "    }\n",
    "    if not employee_data:\n",
    "        print(\"No employees available.\")\n",
    "    else:\n",
    "        print(\"Employee Data:\")\n",
    "        print(\"--------------------\")\n",
    "        print(f\"| {'ID':^5} | {'Name':^20} | {'Age':^5} | {'Department':^15} | {'Salary':^10} |\")\n",
    "        print(\"--------------------\")\n",
    "        for emp_id, emp_info in employee_data.items():\n",
    "            print(f\"| {emp_id:^5} | {emp_info['name']:^20} | {emp_info['age']:^5} | {emp_info['department']:^15} | {emp_info['salary']:^10} |\")\n",
    "        print(\"--------------------\")\n",
    "\n",
    "def search_employee():\n",
    "    employee_data = {\n",
    "        101: {'name': 'Satya', 'age': 27, 'department': 'HR', 'salary': 50000},\n",
    "        102: {'name': 'John', 'age': 30, 'department': 'Marketing', 'salary': 60000},\n",
    "        103: {'name': 'Emma', 'age': 25, 'department': 'Sales', 'salary': 45000},\n",
    "        104: {'name': 'Michael', 'age': 35, 'department': 'IT', 'salary': 70000},\n",
    "        105: {'name': 'Sophia', 'age': 28, 'department': 'Finance', 'salary': 55000}\n",
    "    }\n",
    "    emp_id = int(input(\"Enter Employee ID to search: \"))\n",
    "    if emp_id in employee_data:\n",
    "        emp_info = employee_data[emp_id]\n",
    "        print(f\"Employee ID: {emp_id}\")\n",
    "        print(f\"Name: {emp_info['name']}\")\n",
    "        print(f\"Age: {emp_info['age']}\")\n",
    "        print(f\"Department: {emp_info['department']}\")\n",
    "        print(f\"Salary: {emp_info['salary']}\")\n",
    "    else:\n",
    "        print(\"Employee not found.\")\n",
    "\n",
    "def main():\n",
    "    main_menu()\n",
    "\n",
    "if __name__ == \"__main__\":\n",
    "    main()\n",
    "\n"
   ]
  },
  {
   "cell_type": "code",
   "execution_count": null,
   "id": "0b758422-ebda-4aa9-8449-bc2fdcb1ca24",
   "metadata": {},
   "outputs": [],
   "source": []
  }
 ],
 "metadata": {
  "kernelspec": {
   "display_name": "Python 3 (ipykernel)",
   "language": "python",
   "name": "python3"
  },
  "language_info": {
   "codemirror_mode": {
    "name": "ipython",
    "version": 3
   },
   "file_extension": ".py",
   "mimetype": "text/x-python",
   "name": "python",
   "nbconvert_exporter": "python",
   "pygments_lexer": "ipython3",
   "version": "3.13.2"
  }
 },
 "nbformat": 4,
 "nbformat_minor": 5
}
